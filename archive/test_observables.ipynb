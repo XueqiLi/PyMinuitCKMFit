{
 "cells": [
  {
   "cell_type": "markdown",
   "metadata": {},
   "source": [
    "This file is to check is the Observables.py work correctly."
   ]
  },
  {
   "cell_type": "code",
   "execution_count": 1,
   "metadata": {},
   "outputs": [],
   "source": [
    "import Observables\n",
    "import numpy as np"
   ]
  },
  {
   "cell_type": "code",
   "execution_count": 2,
   "metadata": {},
   "outputs": [],
   "source": [
    "import MuChunModel"
   ]
  },
  {
   "cell_type": "code",
   "execution_count": 3,
   "metadata": {},
   "outputs": [],
   "source": [
    "commonBounds = (-100,100)\n",
    "parameterBounds = [commonBounds for i in range(MuChunModel.numberOfParams)]"
   ]
  },
  {
   "cell_type": "code",
   "execution_count": 4,
   "metadata": {},
   "outputs": [],
   "source": [
    "params=[np.random.uniform(low=bound[0], high=bound[1]) for bound in parameterBounds]"
   ]
  },
  {
   "cell_type": "code",
   "execution_count": 5,
   "metadata": {},
   "outputs": [
    {
     "data": {
      "text/plain": [
       "[[(0.0969442917579865-0.126713806756216j),\n",
       "  (-0.3463581460649+0.5308591242405093j),\n",
       "  (11.06487487584564-16.015326904778014j)],\n",
       " [(0.3670752992720424-0.031113767350067278j),\n",
       "  (3.3590346585220723-2.809321408861431j),\n",
       "  (-35.52785061464871+33.83241424996692j)],\n",
       " [(0.2590739817707909-0.41542732477803046j),\n",
       "  (4.281935922191028-2.938878875496796j),\n",
       "  (99.75561359538477-57.18099971450208j)]]"
      ]
     },
     "execution_count": 5,
     "metadata": {},
     "output_type": "execute_result"
    }
   ],
   "source": [
    "MuChunModel.ELMatrix(params)"
   ]
  },
  {
   "cell_type": "code",
   "execution_count": 6,
   "metadata": {},
   "outputs": [
    {
     "data": {
      "text/plain": [
       "[[(0.0018875897023100112+0.001308905799006206j),\n",
       "  (-0.09305157929282101-0.20979972284439044j),\n",
       "  (-6.987992426969925+5.963390182477585j)],\n",
       " [(0.0067619763704180325-7.314489833892814e-05j),\n",
       "  (-0.8077276066729818+0.7325877040866514j),\n",
       "  (87.27383170250502+60.05290000912302j)],\n",
       " [(0.006535723632408145+0.010269960005834411j),\n",
       "  (-0.49121749970167256-0.010767250436887388j),\n",
       "  (-9.684203632752372+86.47148451865775j)]]"
      ]
     },
     "execution_count": 6,
     "metadata": {},
     "output_type": "execute_result"
    }
   ],
   "source": [
    "MuChunModel.NLMatrix(params)"
   ]
  },
  {
   "cell_type": "code",
   "execution_count": 7,
   "metadata": {},
   "outputs": [],
   "source": [
    "def MnuMatrix(params):\n",
    "    return -1 * np.dot(np.dot(np.transpose(MuChunModel.NLMatrix(params)), np.linalg.inv(MuChunModel.NNMatrix(params))), MuChunModel.NLMatrix(params))"
   ]
  },
  {
   "cell_type": "code",
   "execution_count": 8,
   "metadata": {},
   "outputs": [
    {
     "data": {
      "text/plain": [
       "array([[ 2.06817990e-06+1.38451256e-06j, -2.36960838e-04+1.51165797e-04j,\n",
       "         2.10682112e-02+2.17748258e-02j],\n",
       "       [-2.36960838e-04+1.51165797e-04j,  8.11939381e-03-4.83806920e-02j,\n",
       "        -4.64514947e+00+4.13212844e-01j],\n",
       "       [ 2.10682112e-02+2.17748258e-02j, -4.64514947e+00+4.13212844e-01j,\n",
       "         1.54151594e+02+4.45606395e+02j]])"
      ]
     },
     "execution_count": 8,
     "metadata": {},
     "output_type": "execute_result"
    }
   ],
   "source": [
    "MnuMatrix(params)"
   ]
  },
  {
   "cell_type": "code",
   "execution_count": 9,
   "metadata": {},
   "outputs": [],
   "source": [
    "testCKM=Observables.CKMSystem(MuChunModel.ELMatrix,MnuMatrix,MuChunModel.numberOfParams)"
   ]
  },
  {
   "cell_type": "code",
   "execution_count": 10,
   "metadata": {},
   "outputs": [],
   "source": [
    "testPMNSSS=Observables.PMNSSeeSawSystem(MuChunModel.ELMatrix,MuChunModel.NLMatrix,MuChunModel.NNMatrix,MuChunModel.numberOfParams)"
   ]
  },
  {
   "cell_type": "code",
   "execution_count": 13,
   "metadata": {},
   "outputs": [],
   "source": [
    "testCKMPMNSSS=Observables.CKMPMNSSeeSawSystem(MuChunModel.ELMatrix,MnuMatrix,MuChunModel.ELMatrix,MuChunModel.NLMatrix,MuChunModel.NNMatrix,MuChunModel.numberOfParams)"
   ]
  },
  {
   "cell_type": "code",
   "execution_count": 14,
   "metadata": {},
   "outputs": [
    {
     "name": "stdout",
     "output_type": "stream",
     "text": [
      "Observabls Result:\n",
      "Quark:\n",
      "Qs12 :  0.004221321311158252\n",
      "Qs23 :  0.000836847823303488\n",
      "Qs13 :  3.6234265991371104e-06\n",
      "mURmC :  0.0328023036055457\n",
      "mCRmT :  0.04870047444288453\n",
      "mDRmS :  0.00018947490782771553\n",
      "mSRmB :  6.312751937556273e-06\n",
      "Lepton:\n",
      "Ls12 :  0.004221321311158252\n",
      "Ls23 :  0.000836847823303488\n",
      "Ls13 :  3.6234265991371104e-06\n",
      "m21Rm31 :  3.985083559444591e-11\n",
      "mERmMu :  0.0328023036055457\n",
      "mMuRMTau :  0.04870047444288453\n",
      "Observabls Result:\n",
      "s12 :  0.004221321311158252\n",
      "s23 :  0.000836847823303488\n",
      "s13 :  3.6234265991371104e-06\n",
      "mURmC :  0.0328023036055457\n",
      "mCRmT :  0.04870047444288453\n",
      "mDRmS :  0.00018947490782771553\n",
      "mSRmB :  6.312751937556273e-06\n",
      "Observabls Result:\n",
      "s12 :  0.004221321311158252\n",
      "s23 :  0.000836847823303488\n",
      "s13 :  3.6234265991371104e-06\n",
      "m21Rm31 :  3.985083559444591e-11\n",
      "mERmMu :  0.0328023036055457\n",
      "mMuRMTau :  0.04870047444288453\n"
     ]
    }
   ],
   "source": [
    "testCKMPMNSSS.Print(params)\n",
    "testCKM.Print(params)\n",
    "testPMNSSS.Print(params)"
   ]
  },
  {
   "cell_type": "code",
   "execution_count": null,
   "metadata": {},
   "outputs": [],
   "source": []
  }
 ],
 "metadata": {
  "kernelspec": {
   "display_name": "Python 3",
   "language": "python",
   "name": "python3"
  },
  "language_info": {
   "codemirror_mode": {
    "name": "ipython",
    "version": 3
   },
   "file_extension": ".py",
   "mimetype": "text/x-python",
   "name": "python",
   "nbconvert_exporter": "python",
   "pygments_lexer": "ipython3",
   "version": "3.11.7"
  }
 },
 "nbformat": 4,
 "nbformat_minor": 2
}
