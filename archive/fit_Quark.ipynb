{
 "cells": [
  {
   "cell_type": "code",
   "execution_count": 1,
   "metadata": {},
   "outputs": [],
   "source": [
    "from fit import *\n",
    "import "
   ]
  },
  {
   "metadata": {
    "ExecuteTime": {
     "end_time": "2025-02-09T01:12:15.087003Z",
     "start_time": "2025-02-09T01:12:15.083858Z"
    }
   },
   "cell_type": "code",
   "source": [
    "lower = 0\n",
    "def ShiftFunction(params):\n",
    "    minScale = lower\n",
    "    commonParams = [param + np.sign(param) * minScale for param in params]\n",
    "    return commonParams"
   ],
   "outputs": [],
   "execution_count": 3
  },
  {
   "metadata": {
    "ExecuteTime": {
     "end_time": "2025-02-09T01:12:16.650009Z",
     "start_time": "2025-02-09T01:12:16.526651Z"
    }
   },
   "cell_type": "code",
   "source": [
    "modelName = \"model.QuarkModel\"\n",
    "modelModule = importlib.import_module(modelName)\n",
    "observables=CKMSystem(modelModule.YuMatrix,modelModule.YdMatrix,modelModule.numberOfParams,dCPResult=True)\n",
    "costFunction = CostFunction(observables, quarkCPExpValList ,quarkCPDivValList, shiftFunction=ShiftFunction)"
   ],
   "outputs": [
    {
     "ename": "NameError",
     "evalue": "name 'importlib' is not defined",
     "output_type": "error",
     "traceback": [
      "\u001B[0;31m---------------------------------------------------------------------------\u001B[0m",
      "\u001B[0;31mNameError\u001B[0m                                 Traceback (most recent call last)",
      "Cell \u001B[0;32mIn[4], line 2\u001B[0m\n\u001B[1;32m      1\u001B[0m modelName \u001B[38;5;241m=\u001B[39m \u001B[38;5;124m\"\u001B[39m\u001B[38;5;124mmodel.QuarkModel\u001B[39m\u001B[38;5;124m\"\u001B[39m\n\u001B[0;32m----> 2\u001B[0m modelModule \u001B[38;5;241m=\u001B[39m \u001B[43mimportlib\u001B[49m\u001B[38;5;241m.\u001B[39mimport_module(modelName)\n\u001B[1;32m      3\u001B[0m observables\u001B[38;5;241m=\u001B[39mCKMSystem(modelModule\u001B[38;5;241m.\u001B[39mYuMatrix,modelModule\u001B[38;5;241m.\u001B[39mYdMatrix,modelModule\u001B[38;5;241m.\u001B[39mnumberOfParams,dCPResult\u001B[38;5;241m=\u001B[39m\u001B[38;5;28;01mTrue\u001B[39;00m)\n\u001B[1;32m      4\u001B[0m costFunction \u001B[38;5;241m=\u001B[39m CostFunction(observables, quarkCPExpValList ,quarkCPDivValList, shiftFunction\u001B[38;5;241m=\u001B[39mShiftFunction)\n",
      "\u001B[0;31mNameError\u001B[0m: name 'importlib' is not defined"
     ]
    }
   ],
   "execution_count": 4
  },
  {
   "cell_type": "code",
   "execution_count": 2,
   "metadata": {},
   "outputs": [
    {
     "data": {
      "text/html": [
       "<table>\n",
       "    <tr>\n",
       "        <th colspan=\"2\" style=\"text-align:center\" title=\"Minimizer\"> Migrad </th>\n",
       "    </tr>\n",
       "    <tr>\n",
       "        <td style=\"text-align:left\" title=\"Minimum value of function\"> FCN = 259.6 </td>\n",
       "        <td style=\"text-align:center\" title=\"Total number of function and (optional) gradient evaluations\"> Nfcn = 49597 </td>\n",
       "    </tr>\n",
       "    <tr>\n",
       "        <td style=\"text-align:left\" title=\"Estimated distance to minimum and goal\"> EDM = 0.253 (Goal: 0.0002) </td>\n",
       "        <td style=\"text-align:center\" title=\"Total run time of algorithms\"> time = 3.1 sec </td>\n",
       "    </tr>\n",
       "    <tr>\n",
       "        <td style=\"text-align:center;background-color:#c15ef7;color:black\"> INVALID Minimum </td>\n",
       "        <td style=\"text-align:center;background-color:#c15ef7;color:black\"> ABOVE EDM threshold (goal x 10) </td>\n",
       "    </tr>\n",
       "    <tr>\n",
       "        <td style=\"text-align:center;background-color:#92CCA6;color:black\"> No parameters at limit </td>\n",
       "        <td style=\"text-align:center;background-color:#92CCA6;color:black\"> Below call limit </td>\n",
       "    </tr>\n",
       "    <tr>\n",
       "        <td style=\"text-align:center;background-color:#FFF79A;color:black\"> Hesse ok </td>\n",
       "        <td style=\"text-align:center;background-color:#FFF79A;color:black\"> Covariance APPROXIMATE </td>\n",
       "    </tr>\n",
       "</table>"
      ],
      "text/plain": [
       "┌─────────────────────────────────────────────────────────────────────────┐\n",
       "│                                Migrad                                   │\n",
       "├──────────────────────────────────┬──────────────────────────────────────┤\n",
       "│ FCN = 259.6                      │             Nfcn = 49597             │\n",
       "│ EDM = 0.253 (Goal: 0.0002)       │            time = 3.1 sec            │\n",
       "├──────────────────────────────────┼──────────────────────────────────────┤\n",
       "│         INVALID Minimum          │   ABOVE EDM threshold (goal x 10)    │\n",
       "├──────────────────────────────────┼──────────────────────────────────────┤\n",
       "│      No parameters at limit      │           Below call limit           │\n",
       "├──────────────────────────────────┼──────────────────────────────────────┤\n",
       "│             Hesse ok             │        Covariance APPROXIMATE        │\n",
       "└──────────────────────────────────┴──────────────────────────────────────┘"
      ]
     },
     "execution_count": 2,
     "metadata": {},
     "output_type": "execute_result"
    }
   ],
   "source": [
    "fitResults = []\n",
    "for i in range(100):\n",
    "    fit = Minuit(costFunction, costFunction.InitParams()) \n",
    "    fit.limits=costFunction.parameterBounds\n",
    "    fit.strategy=2\n",
    "\n",
    "    try:\n",
    "        fit.migrad(100000)\n",
    "        fitResults.append(np.asarray(fit.values))\n",
    "    except:\n",
    "        continue\n",
    "    \n",
    "    fitResult = min(fitResults, key=lambda x: costFunction(x))\n",
    "fitResult=np.asarray(fit.values)\n",
    "fit.fmin"
   ]
  },
  {
   "cell_type": "code",
   "execution_count": 3,
   "metadata": {},
   "outputs": [],
   "source": [
    "convergingCount = 0\n",
    "for i in range(20):\n",
    "    OldResult = fitResult\n",
    "    fit = Minuit(costFunction,fitResult) \n",
    "    fit.limits=costFunction.parameterBounds\n",
    "    fit.strategy=2\n",
    "    try:\n",
    "        fit.migrad(100000)\n",
    "    except: \n",
    "        continue\n",
    "    fitResultNew=np.asarray(fit.values)\n",
    "    fitResult=min([fitResultNew,fitResult], key=lambda x: costFunction(x))\n",
    "    if np.all(OldResult == fitResultNew):\n",
    "        convergingCount += 1\n",
    "    if convergingCount > 3:\n",
    "        break\n",
    "\n",
    "fit.fmin"
   ]
  },
  {
   "cell_type": "code",
   "execution_count": 4,
   "metadata": {},
   "outputs": [
    {
     "name": "stdout",
     "output_type": "stream",
     "text": [
      "==========================================================\n",
      "Fit Result:\n",
      "[-0.10000030816132935, 6.106017474463618, 0.10248850847926008, -9.859581454200457, -0.10129283349570031, 0.10040424697116848, 4.196949807281586, -6.4681869808295875, 9.679506778001658, 9.482711833161849, -10.041076299488937, -9.15939166487519, 5.572759609540997, -2.1927144318521594, -0.2247458229853553, -1.1832133940740754, -10.076371051228783, -10.086139504534678, -6.3368776473794, 8.230662217469048, 4.983173430150284, -2.941498750203307, 8.577659315972832, -0.10000161883015793, 5.3134145085043905, 6.693955664473409, -0.7621484738935148, 0.44346465190153095, 3.1013744247815667, -1.3673666957128412, 10.047471996755794, 9.833734930771067, -7.348252570764152, 5.10803568374164, -2.1576938030514996, 4.241175720052219]\n",
      "----------------------------------------------------------\n",
      "Sigma Away:\n",
      "s12 :  7.160264298392004e-05\n",
      "s23 :  0.03690711118642247\n",
      "s13 :  1.762131916266046e-06\n",
      "mURmC :  0.5653704032005377\n",
      "mCRmT :  152.9543596912066\n",
      "mDRmS :  3.7933652754544327\n",
      "mSRmB :  102.25392998757687\n",
      "QdCP :  0.008092237936891528\n",
      "----------------------------------------------------------\n",
      "total chi-sqr:  259.6120980713367\n",
      "===============----------------------------===============\n",
      "Observabls Result:\n",
      "s12 :  0.05212023812064669\n",
      "s23 :  8.701981169438147e-05\n",
      "s13 :  0.14846595436002055\n",
      "mURmC :  0.0011125455079760847\n",
      "mCRmT :  0.0013084359657911716\n",
      "mDRmS :  0.03747848967846821\n",
      "mSRmB :  0.028170259498421217\n",
      "QdCP :  0.46296566281201124\n",
      "==========================================================\n"
     ]
    }
   ],
   "source": [
    "print(\"==========================================================\")\n",
    "costFunction.Print(fitResult)\n",
    "print(\"===============----------------------------===============\")\n",
    "costFunction.calResult.Print(fitResult)\n",
    "print(\"==========================================================\")"
   ]
  },
  {
   "cell_type": "code",
   "execution_count": null,
   "metadata": {},
   "outputs": [],
   "source": []
  }
 ],
 "metadata": {
  "kernelspec": {
   "display_name": "Python 3",
   "language": "python",
   "name": "python3"
  },
  "language_info": {
   "codemirror_mode": {
    "name": "ipython",
    "version": 3
   },
   "file_extension": ".py",
   "mimetype": "text/x-python",
   "name": "python",
   "nbconvert_exporter": "python",
   "pygments_lexer": "ipython3",
   "version": "3.11.7"
  }
 },
 "nbformat": 4,
 "nbformat_minor": 2
}
