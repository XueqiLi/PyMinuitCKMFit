{
 "cells": [
  {
   "cell_type": "code",
   "execution_count": 2,
   "metadata": {},
   "outputs": [],
   "source": [
    "from fit import *\n",
    "modelName = \"model.SimpleFNLepton.model1\"\n",
    "modelModule = importlib.import_module(modelName)\n",
    "observables=PMNSSeeSawSystem(modelModule.ELMatrix,modelModule.NLMatrix, modelModule.NNMatrix,modelModule.numberOfParams,dCPResult=True)\n",
    "costFunction = CostFunction(observables, leptonCPExpValList ,leptonCPDivValList)"
   ]
  },
  {
   "cell_type": "code",
   "execution_count": 3,
   "metadata": {},
   "outputs": [
    {
     "data": {
      "text/html": [
       "<table>\n",
       "    <tr>\n",
       "        <th colspan=\"2\" style=\"text-align:center\" title=\"Minimizer\"> Migrad </th>\n",
       "    </tr>\n",
       "    <tr>\n",
       "        <td style=\"text-align:left\" title=\"Minimum value of function\"> FCN = 0.5176 </td>\n",
       "        <td style=\"text-align:center\" title=\"Total number of function and (optional) gradient evaluations\"> Nfcn = 18190 </td>\n",
       "    </tr>\n",
       "    <tr>\n",
       "        <td style=\"text-align:left\" title=\"Estimated distance to minimum and goal\"> EDM = 4.67e-09 (Goal: 0.0002) </td>\n",
       "        <td style=\"text-align:center\" title=\"Total run time of algorithms\"> time = 1.3 sec </td>\n",
       "    </tr>\n",
       "    <tr>\n",
       "        <td style=\"text-align:center;background-color:#92CCA6;color:black\"> Valid Minimum </td>\n",
       "        <td style=\"text-align:center;background-color:#92CCA6;color:black\"> Below EDM threshold (goal x 10) </td>\n",
       "    </tr>\n",
       "    <tr>\n",
       "        <td style=\"text-align:center;background-color:#92CCA6;color:black\"> No parameters at limit </td>\n",
       "        <td style=\"text-align:center;background-color:#92CCA6;color:black\"> Below call limit </td>\n",
       "    </tr>\n",
       "    <tr>\n",
       "        <td style=\"text-align:center;background-color:#FFF79A;color:black\"> Hesse ok </td>\n",
       "        <td style=\"text-align:center;background-color:#FFF79A;color:black\"> Covariance FORCED pos. def. </td>\n",
       "    </tr>\n",
       "</table>"
      ],
      "text/plain": [
       "┌─────────────────────────────────────────────────────────────────────────┐\n",
       "│                                Migrad                                   │\n",
       "├──────────────────────────────────┬──────────────────────────────────────┤\n",
       "│ FCN = 0.5176                     │             Nfcn = 18190             │\n",
       "│ EDM = 4.67e-09 (Goal: 0.0002)    │            time = 1.3 sec            │\n",
       "├──────────────────────────────────┼──────────────────────────────────────┤\n",
       "│          Valid Minimum           │   Below EDM threshold (goal x 10)    │\n",
       "├──────────────────────────────────┼──────────────────────────────────────┤\n",
       "│      No parameters at limit      │           Below call limit           │\n",
       "├──────────────────────────────────┼──────────────────────────────────────┤\n",
       "│             Hesse ok             │     Covariance FORCED pos. def.      │\n",
       "└──────────────────────────────────┴──────────────────────────────────────┘"
      ]
     },
     "execution_count": 3,
     "metadata": {},
     "output_type": "execute_result"
    }
   ],
   "source": [
    "fitResults = []\n",
    "for i in range(10):\n",
    "    fit = Minuit(costFunction, costFunction.InitParams()) \n",
    "    fit.limits=costFunction.parameterBounds\n",
    "    fit.strategy=2\n",
    "\n",
    "    try:\n",
    "        fit.migrad(100000)\n",
    "        fitResults.append(np.asarray(fit.values))\n",
    "    except:\n",
    "        continue\n",
    "    \n",
    "    fitResult = min(fitResults, key=lambda x: costFunction(x))\n",
    "fitResult=np.asarray(fit.values)\n",
    "fit.fmin"
   ]
  },
  {
   "cell_type": "code",
   "execution_count": 30,
   "metadata": {},
   "outputs": [
    {
     "data": {
      "text/html": [
       "<table>\n",
       "    <tr>\n",
       "        <th colspan=\"2\" style=\"text-align:center\" title=\"Minimizer\"> Migrad </th>\n",
       "    </tr>\n",
       "    <tr>\n",
       "        <td style=\"text-align:left\" title=\"Minimum value of function\"> FCN = 1.759 </td>\n",
       "        <td style=\"text-align:center\" title=\"Total number of function and (optional) gradient evaluations\"> Nfcn = 1821 </td>\n",
       "    </tr>\n",
       "    <tr>\n",
       "        <td style=\"text-align:left\" title=\"Estimated distance to minimum and goal\"> EDM = 2.73e-05 (Goal: 0.0002) </td>\n",
       "        <td style=\"text-align:center\" title=\"Total run time of algorithms\"> time = 0.1 sec </td>\n",
       "    </tr>\n",
       "    <tr>\n",
       "        <td style=\"text-align:center;background-color:#92CCA6;color:black\"> Valid Minimum </td>\n",
       "        <td style=\"text-align:center;background-color:#92CCA6;color:black\"> Below EDM threshold (goal x 10) </td>\n",
       "    </tr>\n",
       "    <tr>\n",
       "        <td style=\"text-align:center;background-color:#92CCA6;color:black\"> No parameters at limit </td>\n",
       "        <td style=\"text-align:center;background-color:#92CCA6;color:black\"> Below call limit </td>\n",
       "    </tr>\n",
       "    <tr>\n",
       "        <td style=\"text-align:center;background-color:#FFF79A;color:black\"> Hesse ok </td>\n",
       "        <td style=\"text-align:center;background-color:#FFF79A;color:black\"> Covariance FORCED pos. def. </td>\n",
       "    </tr>\n",
       "</table>"
      ],
      "text/plain": [
       "┌─────────────────────────────────────────────────────────────────────────┐\n",
       "│                                Migrad                                   │\n",
       "├──────────────────────────────────┬──────────────────────────────────────┤\n",
       "│ FCN = 1.759                      │             Nfcn = 1821              │\n",
       "│ EDM = 2.73e-05 (Goal: 0.0002)    │            time = 0.1 sec            │\n",
       "├──────────────────────────────────┼──────────────────────────────────────┤\n",
       "│          Valid Minimum           │   Below EDM threshold (goal x 10)    │\n",
       "├──────────────────────────────────┼──────────────────────────────────────┤\n",
       "│      No parameters at limit      │           Below call limit           │\n",
       "├──────────────────────────────────┼──────────────────────────────────────┤\n",
       "│             Hesse ok             │     Covariance FORCED pos. def.      │\n",
       "└──────────────────────────────────┴──────────────────────────────────────┘"
      ]
     },
     "execution_count": 30,
     "metadata": {},
     "output_type": "execute_result"
    }
   ],
   "source": [
    "fit = Minuit(costFunction,fitResult) \n",
    "fit.limits=costFunction.parameterBounds\n",
    "fit.strategy=2\n",
    "fit.migrad(100000)\n",
    "fitResult=np.asarray(fit.values)\n",
    "fit.fmin"
   ]
  },
  {
   "cell_type": "code",
   "execution_count": 4,
   "metadata": {},
   "outputs": [
    {
     "name": "stdout",
     "output_type": "stream",
     "text": [
      "==========================================================\n",
      "Fit Result:\n",
      "[ 0.88936467  1.98600693 -0.94302525 -1.11719103 -0.14563897  0.40216982\n",
      "  0.36108295  0.92133221  1.29640351  1.72327137  1.76727693  0.37356542\n",
      "  1.99705675  1.81094212 -1.98917838  1.90966088 -0.34009877  0.6812932\n",
      " -1.27272699 -1.24241506  0.10562045 -1.36902058  0.935784   -0.20603827\n",
      " -1.74149081 -1.12296094  0.19629206 -1.506027    1.31397696 -0.91324653\n",
      " -1.27763196  1.78662969 -1.67715324 -0.31584399 -0.99168224 -1.34444134\n",
      "  0.26171852  0.61445396 -1.25816275 -1.46691821  1.99999982 -1.46863019\n",
      " -1.72602649 -1.0782336   1.28214283]\n",
      "----------------------------------------------------------\n",
      "Sigma Away:\n",
      "s12 :  0.026951960351153863\n",
      "s23 :  0.015199128658388033\n",
      "s13 :  1.4193993513357812e-05\n",
      "m21Rm31 :  0.008980267541937858\n",
      "mERmMu :  5.1652091810077625e-06\n",
      "mMuRMTau :  0.0040470157687869535\n",
      "dCP :  0.4624061441828545\n",
      "----------------------------------------------------------\n",
      "total chi-sqr:  0.5176038757058156\n",
      "===============----------------------------===============\n",
      "Observabls Result:\n",
      "s12 :  0.30119412425607694\n",
      "s23 :  0.5742191254325336\n",
      "s13 :  0.02203210979533742\n",
      "m21Rm31 :  0.02963960198978412\n",
      "mERmMu :  0.004799545458068776\n",
      "mMuRMTau :  0.05887276768069728\n",
      "dCP :  0.9999948525319282\n",
      "==========================================================\n"
     ]
    }
   ],
   "source": [
    "print(\"==========================================================\")\n",
    "costFunction.Print(fitResult)\n",
    "print(\"===============----------------------------===============\")\n",
    "costFunction.calResult.Print(fitResult)\n",
    "print(\"==========================================================\")"
   ]
  },
  {
   "cell_type": "code",
   "execution_count": null,
   "metadata": {},
   "outputs": [],
   "source": []
  }
 ],
 "metadata": {
  "kernelspec": {
   "display_name": "Python 3",
   "language": "python",
   "name": "python3"
  },
  "language_info": {
   "codemirror_mode": {
    "name": "ipython",
    "version": 3
   },
   "file_extension": ".py",
   "mimetype": "text/x-python",
   "name": "python",
   "nbconvert_exporter": "python",
   "pygments_lexer": "ipython3",
   "version": "3.11.7"
  }
 },
 "nbformat": 4,
 "nbformat_minor": 2
}
