{
 "cells": [
  {
   "cell_type": "code",
   "execution_count": 1,
   "metadata": {},
   "outputs": [],
   "source": [
    "import Observables\n",
    "import numpy as np"
   ]
  },
  {
   "cell_type": "code",
   "execution_count": 2,
   "metadata": {},
   "outputs": [],
   "source": [
    "import MuChunModel"
   ]
  },
  {
   "cell_type": "code",
   "execution_count": 3,
   "metadata": {},
   "outputs": [],
   "source": [
    "commonBounds = (-100,100)\n",
    "parameterBounds = [commonBounds for i in range(MuChunModel.numberOfParams)]"
   ]
  },
  {
   "cell_type": "code",
   "execution_count": 4,
   "metadata": {},
   "outputs": [],
   "source": [
    "params=[np.random.uniform(low=bound[0], high=bound[1]) for bound in parameterBounds]"
   ]
  },
  {
   "cell_type": "code",
   "execution_count": 5,
   "metadata": {},
   "outputs": [
    {
     "data": {
      "text/plain": [
       "[[(0.04228212500171455-0.2243413351900123j),\n",
       "  (0.9678735518579228-0.6054871395362503j),\n",
       "  (0.4459757000996837+0.5731228940901916j)],\n",
       " [(-0.5248940335808048-0.486573765729833j),\n",
       "  (-3.062244205259171-1.169048440759952j),\n",
       "  (-3.734617895545743+0.9556404136787298j)],\n",
       " [(-0.2339931141122426+15.29772816163968j),\n",
       "  (-81.34032825420701-80.60132139055045j),\n",
       "  (-50.7016079309055+51.61318283843431j)]]"
      ]
     },
     "execution_count": 5,
     "metadata": {},
     "output_type": "execute_result"
    }
   ],
   "source": [
    "MuChunModel.ELMatrix(params)"
   ]
  },
  {
   "cell_type": "code",
   "execution_count": 6,
   "metadata": {},
   "outputs": [
    {
     "data": {
      "text/plain": [
       "[[(-0.0001729286667506921+0.0009891153150977422j),\n",
       "  (-0.18898573270300112-0.06644284901479956j),\n",
       "  (14.415293810723494+13.514111874938319j)],\n",
       " [(0.0009071091299309241+0.008223914773097312j),\n",
       "  (-0.945329796427599-1.0484305201730875j),\n",
       "  (35.62399311808173+35.488339128038064j)],\n",
       " [(-0.009696412023190423+0.0034601470529961754j),\n",
       "  (0.9288265965645307+0.7840835252503744j),\n",
       "  (32.45505331823105+38.77131555282418j)]]"
      ]
     },
     "execution_count": 6,
     "metadata": {},
     "output_type": "execute_result"
    }
   ],
   "source": [
    "MuChunModel.NLMatrix(params)"
   ]
  },
  {
   "cell_type": "code",
   "execution_count": 7,
   "metadata": {},
   "outputs": [],
   "source": [
    "def MnuMatrix(params):\n",
    "    return -1 * np.dot(np.dot(np.transpose(MuChunModel.NLMatrix(params)), np.linalg.inv(MuChunModel.NNMatrix(params))), MuChunModel.NLMatrix(params))"
   ]
  },
  {
   "cell_type": "code",
   "execution_count": 8,
   "metadata": {},
   "outputs": [
    {
     "data": {
      "text/plain": [
       "array([[-2.14078419e-06+1.00346569e-07j,  2.59481564e-04-2.52884724e-04j,\n",
       "        -1.17868500e-02+9.19738758e-03j],\n",
       "       [ 2.59481564e-04-2.52884724e-04j, -1.02334506e-02+5.37125700e-02j,\n",
       "         1.03006589e-01-1.96845031e+00j],\n",
       "       [-1.17868500e-02+9.19738758e-03j,  1.03006589e-01-1.96845031e+00j,\n",
       "        -1.57948283e+00+1.10123370e+02j]])"
      ]
     },
     "execution_count": 8,
     "metadata": {},
     "output_type": "execute_result"
    }
   ],
   "source": [
    "MnuMatrix(params)"
   ]
  },
  {
   "cell_type": "code",
   "execution_count": 9,
   "metadata": {},
   "outputs": [],
   "source": [
    "testCKM=Observables.GeneralCKMSystem(MuChunModel.ELMatrix,MnuMatrix,MuChunModel.numberOfParams)"
   ]
  },
  {
   "cell_type": "code",
   "execution_count": 10,
   "metadata": {},
   "outputs": [
    {
     "data": {
      "text/plain": [
       "array([3.23417813e-02, 6.95789993e-01, 7.46189346e-02, 6.25564701e-01,\n",
       "       3.08077361e+00, 1.36380307e+02, 1.08745721e-07, 1.98660441e-02,\n",
       "       1.10169984e+02])"
      ]
     },
     "execution_count": 10,
     "metadata": {},
     "output_type": "execute_result"
    }
   ],
   "source": [
    "testCKM(params)"
   ]
  },
  {
   "cell_type": "code",
   "execution_count": 11,
   "metadata": {},
   "outputs": [
    {
     "name": "stdout",
     "output_type": "stream",
     "text": [
      "YuN: \n",
      " [[ 4.22821250e-02 -0.22434134j  9.67873552e-01 -0.60548714j\n",
      "   4.45975700e-01 +0.57312289j]\n",
      " [-5.24894034e-01 -0.48657377j -3.06224421e+00 -1.16904844j\n",
      "  -3.73461790e+00 +0.95564041j]\n",
      " [-2.33993114e-01+15.29772816j -8.13403283e+01-80.60132139j\n",
      "  -5.07016079e+01+51.61318284j]]\n",
      "YdN: \n",
      " [[-2.14078419e-06+1.00346569e-07j  2.59481564e-04-2.52884724e-04j\n",
      "  -1.17868500e-02+9.19738758e-03j]\n",
      " [ 2.59481564e-04-2.52884724e-04j -1.02334506e-02+5.37125700e-02j\n",
      "   1.03006589e-01-1.96845031e+00j]\n",
      " [-1.17868500e-02+9.19738758e-03j  1.03006589e-01-1.96845031e+00j\n",
      "  -1.57948283e+00+1.10123370e+02j]]\n",
      "Ru: \n",
      " [[ 0.94539517-0.j          0.30607069-0.j         -0.112021  -0.j        ]\n",
      " [ 0.17132355-0.05826637j -0.31650068+0.40194661j  0.58111312+0.60648747j]\n",
      " [-0.23577075-0.13376621j  0.58751333+0.54718833j -0.38453432+0.36614907j]]\n",
      "Mu: \n",
      " [  0.6255647    3.08077361 136.3803073 ]\n",
      "Rd: \n",
      " [[ 9.99985951e-01-0.00000000e+00j -5.29907586e-03-0.00000000e+00j\n",
      "   1.35741728e-04-0.00000000e+00j]\n",
      " [ 5.29281924e-03+2.74109015e-04j  9.98504679e-01+5.13807890e-02j\n",
      "  -1.17342811e-02-1.35143764e-02j]\n",
      " [ 9.43894504e-06-9.73165618e-05j  1.78265382e-02+1.59847554e-03j\n",
      "   6.26376039e-01+7.79315538e-01j]]\n",
      "Md: \n",
      " [1.08745721e-07 1.98660441e-02 1.10169984e+02]\n",
      "CKM: \n",
      " [[ 0.94628349+3.79561702e-04j  0.15864707+6.89896963e-02j\n",
      "  -0.25302183-1.02950909e-01j]\n",
      " [ 0.30445368-2.27652611e-03j -0.28564897-4.26422976e-01j\n",
      "   0.79276003+1.24106471e-01j]\n",
      " [-0.10881672-3.01677470e-03j  0.60572995-5.82864364e-01j\n",
      "   0.02945212-5.29757258e-01j]]\n"
     ]
    },
    {
     "data": {
      "text/plain": [
       "array([3.23417813e-02, 6.95789993e-01, 7.46189346e-02, 6.25564701e-01,\n",
       "       3.08077361e+00, 1.36380307e+02, 1.08745721e-07, 1.98660441e-02,\n",
       "       1.10169984e+02])"
      ]
     },
     "execution_count": 11,
     "metadata": {},
     "output_type": "execute_result"
    }
   ],
   "source": [
    "testCKM.Calculate(params,printResult=True)"
   ]
  },
  {
   "cell_type": "code",
   "execution_count": 12,
   "metadata": {},
   "outputs": [],
   "source": [
    "testPMNSSystemNew=Observables.PMNSSeeSawSystem(MuChunModel.ELMatrix,MuChunModel.NLMatrix,MuChunModel.NNMatrix,MuChunModel.numberOfParams)"
   ]
  },
  {
   "cell_type": "code",
   "execution_count": 13,
   "metadata": {},
   "outputs": [],
   "source": [
    "import fit"
   ]
  },
  {
   "cell_type": "code",
   "execution_count": 14,
   "metadata": {},
   "outputs": [],
   "source": [
    "testFitCKM = fit.Observables(MuChunModel.ELMatrix,MuChunModel.NLMatrix,MuChunModel.NNMatrix,MuChunModel.numberOfParams)"
   ]
  },
  {
   "cell_type": "code",
   "execution_count": 15,
   "metadata": {},
   "outputs": [
    {
     "name": "stdout",
     "output_type": "stream",
     "text": [
      "MEL [[ 4.22821250e-02 -0.22434134j  9.67873552e-01 -0.60548714j\n",
      "   4.45975700e-01 +0.57312289j]\n",
      " [-5.24894034e-01 -0.48657377j -3.06224421e+00 -1.16904844j\n",
      "  -3.73461790e+00 +0.95564041j]\n",
      " [-2.33993114e-01+15.29772816j -8.13403283e+01-80.60132139j\n",
      "  -5.07016079e+01+51.61318284j]]\n",
      "MNL [[-1.72928667e-04+9.89115315e-04j -1.88985733e-01-6.64428490e-02j\n",
      "   1.44152938e+01+1.35141119e+01j]\n",
      " [ 9.07109130e-04+8.22391477e-03j -9.45329796e-01-1.04843052e+00j\n",
      "   3.56239931e+01+3.54883391e+01j]\n",
      " [-9.69641202e-03+3.46014705e-03j  9.28826597e-01+7.84083525e-01j\n",
      "   3.24550533e+01+3.87713156e+01j]]\n",
      "MNN [[ 2.48028072e-03+0.j  6.57448952e-01+0.j -6.50254308e+01+0.j]\n",
      " [ 6.57448952e-01+0.j -3.23086270e+01+0.j -4.10572243e-01+0.j]\n",
      " [-6.50254308e+01+0.j -4.10572243e-01+0.j  3.05216617e-03+0.j]]\n",
      "Mnunu [[ 2.23653056e-04+0.j         -1.93349627e-02+0.02226579j\n",
      "   1.03198899e+00-1.28396527j]\n",
      " [-1.93349627e-02-0.02226579j  3.88839687e+00+0.j\n",
      "  -2.17041870e+02+8.24891j   ]\n",
      " [ 1.03198899e+00+1.28396527j -2.17041870e+02-8.24891j\n",
      "   1.21335371e+04+0.j        ]]\n",
      "Mee [[  234.63962427   +0.j         -1211.63108583+1262.49753602j\n",
      "    802.81383849 +761.3477927j ]\n",
      " [-1211.63108583-1262.49753602j 13124.86941812   +0.j\n",
      "    -25.60155422-8291.31744068j]\n",
      " [  802.81383849 -761.3477927j    -25.60155422+8291.31744068j\n",
      "   5249.9616731    +0.j        ]]\n",
      "Ue [[ 0.94539517+0.j         -0.30607069-0.j          0.112021  -0.j        ]\n",
      " [ 0.17132355-0.05826637j  0.31650068-0.40194661j -0.58111312-0.60648747j]\n",
      " [-0.23577075-0.13376621j -0.58751333-0.54718833j  0.38453432-0.36614907j]]\n",
      "Unu [[ 9.99985951e-01+0.00000000e+00j  5.29907588e-03-0.00000000e+00j\n",
      "   1.35741728e-04-0.00000000e+00j]\n",
      " [ 5.29281925e-03+2.74109015e-04j -9.98504679e-01-5.13807889e-02j\n",
      "  -1.17342811e-02-1.35143764e-02j]\n",
      " [ 9.43894527e-06-9.73165618e-05j -1.78265382e-02-1.59847554e-03j\n",
      "   6.26376039e-01+7.79315538e-01j]]\n",
      "UPMNS [[ 0.94628349+3.79561702e-04j -0.15864707-6.89896963e-02j\n",
      "  -0.25302183-1.02950909e-01j]\n",
      " [-0.30445368+2.27652611e-03j -0.28564897-4.26422976e-01j\n",
      "  -0.79276003-1.24106471e-01j]\n",
      " [ 0.10881672+3.01677471e-03j  0.60572995-5.82864364e-01j\n",
      "  -0.02945212+5.29757258e-01j]]\n",
      "DM21, DM31 [0.00039465970694573237, 12137.425307357684]\n",
      "Charged Lepton Mass [0.3913311948673508, 9.49116606345461, 18599.588218233985]\n"
     ]
    },
    {
     "data": {
      "text/plain": [
       "array([3.23417813e-02, 6.95789993e-01, 7.46189346e-02, 3.25159329e-08,\n",
       "       2.03054420e-01, 2.25895782e-02])"
      ]
     },
     "execution_count": 15,
     "metadata": {},
     "output_type": "execute_result"
    }
   ],
   "source": [
    "testFitCKM.CalObservablesPrint(params)"
   ]
  },
  {
   "cell_type": "code",
   "execution_count": 16,
   "metadata": {},
   "outputs": [
    {
     "data": {
      "text/plain": [
       "array([3.23417813e-02, 6.95789993e-01, 7.46189346e-02, 6.25564701e-01,\n",
       "       3.08077361e+00, 1.36380307e+02, 1.08745721e-07, 1.98660441e-02,\n",
       "       1.10169984e+02])"
      ]
     },
     "execution_count": 16,
     "metadata": {},
     "output_type": "execute_result"
    }
   ],
   "source": [
    "testCKM(params)"
   ]
  },
  {
   "cell_type": "code",
   "execution_count": 17,
   "metadata": {},
   "outputs": [
    {
     "data": {
      "text/plain": [
       "[0.03234178130151038,\n",
       " 0.695789993018539,\n",
       " 0.07461893456573516,\n",
       " 3.251593290729311e-08,\n",
       " 0.20305442043892313,\n",
       " 0.022589578184117092]"
      ]
     },
     "execution_count": 17,
     "metadata": {},
     "output_type": "execute_result"
    }
   ],
   "source": [
    "testPMNSSystemNew(params)\n"
   ]
  },
  {
   "cell_type": "code",
   "execution_count": 18,
   "metadata": {},
   "outputs": [],
   "source": [
    "testWholeSystem=Observables.CKMPMNSSeeSawSystem(MuChunModel.ELMatrix,MnuMatrix,MuChunModel.ELMatrix,MuChunModel.NLMatrix,MuChunModel.NNMatrix,MuChunModel.numberOfParams)"
   ]
  },
  {
   "cell_type": "code",
   "execution_count": 19,
   "metadata": {},
   "outputs": [
    {
     "data": {
      "text/plain": [
       "array([3.23417813e-02, 6.95789993e-01, 7.46189346e-02, 2.03054420e-01,\n",
       "       2.25895782e-02, 5.47394944e-06, 1.80321748e-04, 3.23417813e-02,\n",
       "       6.95789993e-01, 7.46189346e-02, 3.25159329e-08, 2.03054420e-01,\n",
       "       2.25895782e-02])"
      ]
     },
     "execution_count": 19,
     "metadata": {},
     "output_type": "execute_result"
    }
   ],
   "source": [
    "testWholeSystem(params)"
   ]
  },
  {
   "cell_type": "code",
   "execution_count": 20,
   "metadata": {},
   "outputs": [
    {
     "data": {
      "text/plain": [
       "array([3.23417813e-02, 6.95789993e-01, 7.46189346e-02, 6.25564701e-01,\n",
       "       3.08077361e+00, 1.36380307e+02, 1.08745721e-07, 1.98660441e-02,\n",
       "       1.10169984e+02])"
      ]
     },
     "execution_count": 20,
     "metadata": {},
     "output_type": "execute_result"
    }
   ],
   "source": [
    "testCKM(params)"
   ]
  },
  {
   "cell_type": "code",
   "execution_count": 21,
   "metadata": {},
   "outputs": [
    {
     "data": {
      "text/plain": [
       "0.20305442043892313"
      ]
     },
     "execution_count": 21,
     "metadata": {},
     "output_type": "execute_result"
    }
   ],
   "source": [
    "testCKM(params)[3]/testCKM(params)[4]"
   ]
  },
  {
   "cell_type": "code",
   "execution_count": 22,
   "metadata": {},
   "outputs": [
    {
     "data": {
      "text/plain": [
       "[0.03234178130151038,\n",
       " 0.695789993018539,\n",
       " 0.07461893456573516,\n",
       " 3.251593290729311e-08,\n",
       " 0.20305442043892313,\n",
       " 0.022589578184117092]"
      ]
     },
     "execution_count": 22,
     "metadata": {},
     "output_type": "execute_result"
    }
   ],
   "source": [
    "testPMNSSystemNew(params)"
   ]
  },
  {
   "cell_type": "code",
   "execution_count": 23,
   "metadata": {},
   "outputs": [
    {
     "name": "stdout",
     "output_type": "stream",
     "text": [
      "Observabls Result:\n",
      "Quark:\n",
      "Qs12 :  0.03234178130151038\n",
      "Qs23 :  0.695789993018539\n",
      "Qs13 :  0.07461893456573516\n",
      "mURmC :  0.20305442043892313\n",
      "mCRmT :  0.022589578184117092\n",
      "mDRmS :  5.473949444963588e-06\n",
      "mSRmB :  0.00018032174829528305\n",
      "Lepton:\n",
      "Ls12 :  0.03234178130151038\n",
      "Ls23 :  0.695789993018539\n",
      "Ls13 :  0.07461893456573516\n",
      "m21Rm31 :  3.251593290729311e-08\n",
      "mERmMu :  0.20305442043892313\n",
      "mMuRMTau :  0.022589578184117092\n"
     ]
    }
   ],
   "source": [
    "testWholeSystem.Print(params)"
   ]
  },
  {
   "cell_type": "code",
   "execution_count": null,
   "metadata": {},
   "outputs": [],
   "source": []
  }
 ],
 "metadata": {
  "kernelspec": {
   "display_name": "Python 3",
   "language": "python",
   "name": "python3"
  },
  "language_info": {
   "codemirror_mode": {
    "name": "ipython",
    "version": 3
   },
   "file_extension": ".py",
   "mimetype": "text/x-python",
   "name": "python",
   "nbconvert_exporter": "python",
   "pygments_lexer": "ipython3",
   "version": "3.11.6"
  }
 },
 "nbformat": 4,
 "nbformat_minor": 2
}
