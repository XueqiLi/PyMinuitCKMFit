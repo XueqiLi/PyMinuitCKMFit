{
 "cells": [
  {
   "cell_type": "code",
   "execution_count": 2,
   "metadata": {},
   "outputs": [
    {
     "data": {
      "text/html": [
       "<table>\n",
       "    <tr>\n",
       "        <th colspan=\"2\" style=\"text-align:center\" title=\"Minimizer\"> Migrad </th>\n",
       "    </tr>\n",
       "    <tr>\n",
       "        <td style=\"text-align:left\" title=\"Minimum value of function\"> FCN = 559.7 </td>\n",
       "        <td style=\"text-align:center\" title=\"Total number of function and (optional) gradient evaluations\"> Nfcn = 184604 </td>\n",
       "    </tr>\n",
       "    <tr>\n",
       "        <td style=\"text-align:left\" title=\"Estimated distance to minimum and goal\"> EDM = 2.26e-05 (Goal: 0.0002) </td>\n",
       "        <td style=\"text-align:center\" title=\"Total run time of algorithms\"> time = 1.8 sec </td>\n",
       "    </tr>\n",
       "    <tr>\n",
       "        <td style=\"text-align:center;background-color:#92CCA6;color:black\"> Valid Minimum </td>\n",
       "        <td style=\"text-align:center;background-color:#92CCA6;color:black\"> Below EDM threshold (goal x 10) </td>\n",
       "    </tr>\n",
       "    <tr>\n",
       "        <td style=\"text-align:center;background-color:#FFF79A;color:black\"> SOME parameters at limit </td>\n",
       "        <td style=\"text-align:center;background-color:#92CCA6;color:black\"> Below call limit </td>\n",
       "    </tr>\n",
       "    <tr>\n",
       "        <td style=\"text-align:center;background-color:#FFF79A;color:black\"> Hesse ok </td>\n",
       "        <td style=\"text-align:center;background-color:#FFF79A;color:black\"> Covariance FORCED pos. def. </td>\n",
       "    </tr>\n",
       "</table>"
      ],
      "text/plain": [
       "┌─────────────────────────────────────────────────────────────────────────┐\n",
       "│                                Migrad                                   │\n",
       "├──────────────────────────────────┬──────────────────────────────────────┤\n",
       "│ FCN = 559.7                      │            Nfcn = 184604             │\n",
       "│ EDM = 2.26e-05 (Goal: 0.0002)    │            time = 1.8 sec            │\n",
       "├──────────────────────────────────┼──────────────────────────────────────┤\n",
       "│          Valid Minimum           │   Below EDM threshold (goal x 10)    │\n",
       "├──────────────────────────────────┼──────────────────────────────────────┤\n",
       "│     SOME parameters at limit     │           Below call limit           │\n",
       "├──────────────────────────────────┼──────────────────────────────────────┤\n",
       "│             Hesse ok             │     Covariance FORCED pos. def.      │\n",
       "└──────────────────────────────────┴──────────────────────────────────────┘"
      ]
     },
     "execution_count": 2,
     "metadata": {},
     "output_type": "execute_result"
    }
   ],
   "source": [
    "from fit import *\n",
    "modelName = \"example.MuChunModel\"\n",
    "modelModule = importlib.import_module(modelName)\n",
    "observables=CKMPMNSSeeSawSystem(modelModule.YuMatrix,modelModule.YdMatrix,modelModule.ELMatrix,modelModule.NLMatrix,modelModule.NNMatrix,modelModule.numberOfParams)\n",
    "costFunction = CostFunction(observables,expValList,divValList)\n",
    "\n",
    "fit = Minuit(costFunction, costFunction.InitParams()) \n",
    "fit.limits=costFunction.parameterBounds\n",
    "fit.strategy=2\n",
    "\n",
    "for _ in range(10):\n",
    "    fit.migrad(None,1000)\n",
    "fit.fmin"
   ]
  },
  {
   "cell_type": "code",
   "execution_count": 2,
   "metadata": {},
   "outputs": [
    {
     "name": "stdout",
     "output_type": "stream",
     "text": [
      "==========================================================\n",
      "Fit Result:\n",
      "[ 9.56125439  0.48984275 -9.69054923  5.54577544 -7.75052117  8.59450123\n",
      " -1.36129879 -0.85296593 -0.53043498 -5.88660801  7.3917068  -7.83618715\n",
      "  0.59452497  2.54355138 -8.80002711 -6.27429066  6.55184414 -6.63471297\n",
      " -9.57641904 -9.74335784 -3.61867458  9.24586275  7.07872785 -7.49925303\n",
      "  9.50341679  9.98974379 -4.0554207  -5.02312827  6.31689878  8.81621189\n",
      "  9.4758324   1.70967364 -1.15861799  3.05938934  6.68074816 -5.56982305\n",
      " -5.96047168  7.07135037 -3.70092784 -9.48512846 -9.9980506   1.77147721\n",
      " -9.34360181  9.97505453 -1.92610815 -5.30832082  5.94301064  9.96731993\n",
      " -9.22673568 -4.03800929  3.60248849  2.71332102 -6.86691664 -1.32509766\n",
      " -0.20925678  7.23237932  5.13328151  7.28467124 -7.10582869 -9.95904313]\n",
      "----------------------------------------------------------\n",
      "Sigma Away:\n",
      "Qs12 :  7.601654705597675e-08\n",
      "Qs23 :  0.0033983872496740853\n",
      "Qs13 :  1.9834125143448854e-06\n",
      "mURmC :  0.00022939328395126874\n",
      "mCRmT :  290.0040146068375\n",
      "mDRmS :  54.20423301527479\n",
      "mSRmB :  27.431601685725095\n",
      "Ls12 :  4.962907800609731e-05\n",
      "Ls23 :  0.0015064184215665113\n",
      "Ls13 :  1.6058075148620194e-06\n",
      "m21Rm31 :  3.7734162166116545e-06\n",
      "mERmMu :  0.0713292035092705\n",
      "mMuRMTau :  316.1725198122002\n",
      "----------------------------------------------------------\n",
      "total chi-sqr:  687.8888895902328\n",
      "===============----------------------------===============\n",
      "Observabls Result:\n",
      "Quark:\n",
      "Qs12 :  0.0508255001213655\n",
      "Qs23 :  1.2278678008557108e-07\n",
      "Qs13 :  0.1516470003532306\n",
      "mURmC :  0.0019209125590938672\n",
      "mCRmT :  0.0007564594913879346\n",
      "mDRmS :  0.004853415055371752\n",
      "mSRmB :  0.023437518657315227\n",
      "Lepton:\n",
      "Ls12 :  0.3029225073007391\n",
      "Ls23 :  0.5713013730834074\n",
      "Ls13 :  0.022029290365420333\n",
      "m21Rm31 :  0.02956163172377639\n",
      "mERmMu :  0.004853415055371784\n",
      "mMuRMTau :  0.023437518657315245\n",
      "==========================================================\n"
     ]
    }
   ],
   "source": [
    "fitResult=np.asarray(fit.values)\n",
    "print(\"==========================================================\")\n",
    "costFunction.Print(fitResult)\n",
    "print(\"===============----------------------------===============\")\n",
    "costFunction.calResult.Print(fitResult)\n",
    "print(\"==========================================================\")"
   ]
  },
  {
   "cell_type": "code",
   "execution_count": 6,
   "metadata": {},
   "outputs": [
    {
     "name": "stdout",
     "output_type": "stream",
     "text": [
      "E VariableMetricBuilder Initial matrix not pos.def.\n",
      "E VariableMetricBuilder Initial matrix not pos.def.\n"
     ]
    },
    {
     "data": {
      "text/html": [
       "<table>\n",
       "    <tr>\n",
       "        <th colspan=\"2\" style=\"text-align:center\" title=\"Minimizer\"> Migrad </th>\n",
       "    </tr>\n",
       "    <tr>\n",
       "        <td style=\"text-align:left\" title=\"Minimum value of function\"> FCN = 969.3 </td>\n",
       "        <td style=\"text-align:center\" title=\"Total number of function and (optional) gradient evaluations\"> Nfcn = 569731 </td>\n",
       "    </tr>\n",
       "    <tr>\n",
       "        <td style=\"text-align:left\" title=\"Estimated distance to minimum and goal\"> EDM = 0.000195 (Goal: 0.0002) </td>\n",
       "        <td style=\"text-align:center\" title=\"Total run time of algorithms\">  </td>\n",
       "    </tr>\n",
       "    <tr>\n",
       "        <td style=\"text-align:center;background-color:#92CCA6;color:black\"> Valid Minimum </td>\n",
       "        <td style=\"text-align:center;background-color:#92CCA6;color:black\"> Below EDM threshold (goal x 10) </td>\n",
       "    </tr>\n",
       "    <tr>\n",
       "        <td style=\"text-align:center;background-color:#FFF79A;color:black\"> SOME parameters at limit </td>\n",
       "        <td style=\"text-align:center;background-color:#92CCA6;color:black\"> Below call limit </td>\n",
       "    </tr>\n",
       "    <tr>\n",
       "        <td style=\"text-align:center;background-color:#FFF79A;color:black\"> Hesse ok </td>\n",
       "        <td style=\"text-align:center;background-color:#FFF79A;color:black\"> Covariance FORCED pos. def. </td>\n",
       "    </tr>\n",
       "</table>"
      ],
      "text/plain": [
       "┌─────────────────────────────────────────────────────────────────────────┐\n",
       "│                                Migrad                                   │\n",
       "├──────────────────────────────────┬──────────────────────────────────────┤\n",
       "│ FCN = 969.3                      │            Nfcn = 569731             │\n",
       "│ EDM = 0.000195 (Goal: 0.0002)    │                                      │\n",
       "├──────────────────────────────────┼──────────────────────────────────────┤\n",
       "│          Valid Minimum           │   Below EDM threshold (goal x 10)    │\n",
       "├──────────────────────────────────┼──────────────────────────────────────┤\n",
       "│     SOME parameters at limit     │           Below call limit           │\n",
       "├──────────────────────────────────┼──────────────────────────────────────┤\n",
       "│             Hesse ok             │     Covariance FORCED pos. def.      │\n",
       "└──────────────────────────────────┴──────────────────────────────────────┘"
      ]
     },
     "execution_count": 6,
     "metadata": {},
     "output_type": "execute_result"
    }
   ],
   "source": [
    "modelNameGJR = \"MuChunModel_GJR\"\n",
    "modelModuleGJR = importlib.import_module(modelNameGJR)\n",
    "observablesGJR=CKMPMNSSeeSawSystem(modelModule.YuMatrix,modelModule.YdMatrix,modelModule.ELMatrix,modelModule.NLMatrix,modelModule.NNMatrix,modelModule.numberOfParams)\n",
    "costFunctionGJR = CostFunction(observablesGJR,expValList,divValList)\n",
    "\n",
    "fitGJR = Minuit(costFunctionGJR, costFunctionGJR.InitParams()) \n",
    "fitGJR.limits=costFunctionGJR.parameterBounds\n",
    "fitGJR.strategy=2\n",
    "\n",
    "for _ in range(10):\n",
    "    fitGJR.migrad(None,1000)\n",
    "fitGJR.fmin"
   ]
  },
  {
   "cell_type": "code",
   "execution_count": 8,
   "metadata": {},
   "outputs": [
    {
     "name": "stdout",
     "output_type": "stream",
     "text": [
      "==========================================================\n",
      "Fit Result:\n",
      "[ 9.62916677 -9.98184056  8.47251406 -9.61466843 -6.53027131  2.71345691\n",
      "  0.79969725  0.51582559  3.99773379  9.12667164 -5.63583657 -8.9632409\n",
      "  0.89778645  9.72005012 -9.23876333 -8.10941751  9.0379998  -7.0644979\n",
      "  9.99628448 -9.998986    3.48327064 -4.01334144 -1.62102197  4.26570048\n",
      " -3.95207082  9.97423181  4.20335742 -6.0180782   9.41004722  9.53254262\n",
      " -9.99894937  9.62367257  2.93822229 -5.05154383  9.42200857  9.53509561\n",
      "  5.01791685 -7.63954918  3.15414062 -9.95664252  9.97544833  9.55122608\n",
      " -8.82629016  1.16459419 -3.56000132  3.00103303 -1.7096823  -1.16486769\n",
      "  9.87671598  8.50529413 -8.15945284  2.16161662 -2.46762023 -6.2817942\n",
      " -8.54052927 -9.07550178 -7.35960111 -4.75515838  1.77753739 -4.08896664]\n",
      "----------------------------------------------------------\n",
      "Sigma Away:\n",
      "Qs12 :  3.200146941876885e-07\n",
      "Qs23 :  0.000212544167418745\n",
      "Qs13 :  4.85117669476563e-07\n",
      "mURmC :  0.00026485746333714503\n",
      "mCRmT :  148.15877824490153\n",
      "mDRmS :  54.19757199936422\n",
      "mSRmB :  109.64869688693169\n",
      "Ls12 :  4.369711254014191e-05\n",
      "Ls23 :  5.122840668595042e-06\n",
      "Ls13 :  1.2528446203951811e-05\n",
      "m21Rm31 :  2.513868109112774e-07\n",
      "mERmMu :  0.07901674911312272\n",
      "mMuRMTau :  657.1872525670257\n",
      "----------------------------------------------------------\n",
      "total chi-sqr:  969.2718562538855\n",
      "===============----------------------------===============\n",
      "Observabls Result:\n",
      "Quark:\n",
      "Qs12 :  0.05082550024901535\n",
      "Qs23 :  1.220475291074893e-07\n",
      "Qs13 :  0.15164700017469293\n",
      "mURmC :  0.0019202353347829344\n",
      "mCRmT :  0.004260645886834513\n",
      "mDRmS :  0.004856219836043812\n",
      "mSRmB :  0.0077286726301327175\n",
      "Lepton:\n",
      "Ls12 :  0.30307271417067777\n",
      "Ls23 :  0.5720407406477197\n",
      "Ls13 :  0.02203198215053151\n",
      "m21Rm31 :  0.029559578836689894\n",
      "mERmMu :  0.004856219836041426\n",
      "mMuRMTau :  0.007728672630132706\n",
      "==========================================================\n"
     ]
    }
   ],
   "source": [
    "fitResultGJR=np.asarray(fitGJR.values)\n",
    "print(\"==========================================================\")\n",
    "costFunction.Print(fitResultGJR)\n",
    "print(\"===============----------------------------===============\")\n",
    "costFunction.calResult.Print(fitResultGJR)\n",
    "print(\"==========================================================\")"
   ]
  },
  {
   "cell_type": "code",
   "execution_count": null,
   "metadata": {},
   "outputs": [],
   "source": []
  }
 ],
 "metadata": {
  "kernelspec": {
   "display_name": "Python 3",
   "language": "python",
   "name": "python3"
  },
  "language_info": {
   "codemirror_mode": {
    "name": "ipython",
    "version": 3
   },
   "file_extension": ".py",
   "mimetype": "text/x-python",
   "name": "python",
   "nbconvert_exporter": "python",
   "pygments_lexer": "ipython3",
   "version": "3.11.7"
  }
 },
 "nbformat": 4,
 "nbformat_minor": 2
}
