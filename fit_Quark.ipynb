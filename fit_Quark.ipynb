{
 "cells": [
  {
   "cell_type": "code",
   "execution_count": 2,
   "metadata": {},
   "outputs": [],
   "source": [
    "from fit import *\n",
    "modelName = \"model.QuarkModel\"\n",
    "modelModule = importlib.import_module(modelName)\n",
    "observables=CKMSystem(modelModule.YuMatrix,modelModule.YdMatrix,modelModule.numberOfParams,dCPResult=True)\n",
    "costFunction = CostFunction(observables, quarkCPExpValList ,quarkCPDivValList)"
   ]
  },
  {
   "cell_type": "code",
   "execution_count": 20,
   "metadata": {},
   "outputs": [
    {
     "data": {
      "text/html": [
       "<table>\n",
       "    <tr>\n",
       "        <th colspan=\"2\" style=\"text-align:center\" title=\"Minimizer\"> Migrad </th>\n",
       "    </tr>\n",
       "    <tr>\n",
       "        <td style=\"text-align:left\" title=\"Minimum value of function\"> FCN = 74.06 </td>\n",
       "        <td style=\"text-align:center\" title=\"Total number of function and (optional) gradient evaluations\"> Nfcn = 109902 </td>\n",
       "    </tr>\n",
       "    <tr>\n",
       "        <td style=\"text-align:left\" title=\"Estimated distance to minimum and goal\"> EDM = 6.29e-05 (Goal: 0.0002) </td>\n",
       "        <td style=\"text-align:center\" title=\"Total run time of algorithms\"> time = 5.4 sec </td>\n",
       "    </tr>\n",
       "    <tr>\n",
       "        <td style=\"text-align:center;background-color:#c15ef7;color:black\"> INVALID Minimum </td>\n",
       "        <td style=\"text-align:center;background-color:#92CCA6;color:black\"> Below EDM threshold (goal x 10) </td>\n",
       "    </tr>\n",
       "    <tr>\n",
       "        <td style=\"text-align:center;background-color:#92CCA6;color:black\"> No parameters at limit </td>\n",
       "        <td style=\"text-align:center;background-color:#c15ef7;color:black\"> ABOVE call limit </td>\n",
       "    </tr>\n",
       "    <tr>\n",
       "        <td style=\"text-align:center;background-color:#c15ef7;color:black\"> Hesse FAILED </td>\n",
       "        <td style=\"text-align:center;background-color:#c15ef7;color:black\"> ABOVE call limit </td>\n",
       "    </tr>\n",
       "</table>"
      ],
      "text/plain": [
       "┌─────────────────────────────────────────────────────────────────────────┐\n",
       "│                                Migrad                                   │\n",
       "├──────────────────────────────────┬──────────────────────────────────────┤\n",
       "│ FCN = 74.06                      │            Nfcn = 109902             │\n",
       "│ EDM = 6.29e-05 (Goal: 0.0002)    │            time = 5.4 sec            │\n",
       "├──────────────────────────────────┼──────────────────────────────────────┤\n",
       "│         INVALID Minimum          │   Below EDM threshold (goal x 10)    │\n",
       "├──────────────────────────────────┼──────────────────────────────────────┤\n",
       "│      No parameters at limit      │           ABOVE call limit           │\n",
       "├──────────────────────────────────┼──────────────────────────────────────┤\n",
       "│           Hesse FAILED           │           ABOVE call limit           │\n",
       "└──────────────────────────────────┴──────────────────────────────────────┘"
      ]
     },
     "execution_count": 20,
     "metadata": {},
     "output_type": "execute_result"
    }
   ],
   "source": [
    "fitResults = []\n",
    "for i in range(10):\n",
    "    fit = Minuit(costFunction, costFunction.InitParams()) \n",
    "    fit.limits=costFunction.parameterBounds\n",
    "    fit.strategy=2\n",
    "\n",
    "    try:\n",
    "        fit.migrad(100000)\n",
    "        fitResults.append(np.asarray(fit.values))\n",
    "    except:\n",
    "        continue\n",
    "    \n",
    "    fitResult = min(fitResults, key=lambda x: costFunction(x))\n",
    "fitResult=np.asarray(fit.values)\n",
    "fit.fmin"
   ]
  },
  {
   "cell_type": "code",
   "execution_count": 30,
   "metadata": {},
   "outputs": [
    {
     "data": {
      "text/html": [
       "<table>\n",
       "    <tr>\n",
       "        <th colspan=\"2\" style=\"text-align:center\" title=\"Minimizer\"> Migrad </th>\n",
       "    </tr>\n",
       "    <tr>\n",
       "        <td style=\"text-align:left\" title=\"Minimum value of function\"> FCN = 1.759 </td>\n",
       "        <td style=\"text-align:center\" title=\"Total number of function and (optional) gradient evaluations\"> Nfcn = 1821 </td>\n",
       "    </tr>\n",
       "    <tr>\n",
       "        <td style=\"text-align:left\" title=\"Estimated distance to minimum and goal\"> EDM = 2.73e-05 (Goal: 0.0002) </td>\n",
       "        <td style=\"text-align:center\" title=\"Total run time of algorithms\"> time = 0.1 sec </td>\n",
       "    </tr>\n",
       "    <tr>\n",
       "        <td style=\"text-align:center;background-color:#92CCA6;color:black\"> Valid Minimum </td>\n",
       "        <td style=\"text-align:center;background-color:#92CCA6;color:black\"> Below EDM threshold (goal x 10) </td>\n",
       "    </tr>\n",
       "    <tr>\n",
       "        <td style=\"text-align:center;background-color:#92CCA6;color:black\"> No parameters at limit </td>\n",
       "        <td style=\"text-align:center;background-color:#92CCA6;color:black\"> Below call limit </td>\n",
       "    </tr>\n",
       "    <tr>\n",
       "        <td style=\"text-align:center;background-color:#FFF79A;color:black\"> Hesse ok </td>\n",
       "        <td style=\"text-align:center;background-color:#FFF79A;color:black\"> Covariance FORCED pos. def. </td>\n",
       "    </tr>\n",
       "</table>"
      ],
      "text/plain": [
       "┌─────────────────────────────────────────────────────────────────────────┐\n",
       "│                                Migrad                                   │\n",
       "├──────────────────────────────────┬──────────────────────────────────────┤\n",
       "│ FCN = 1.759                      │             Nfcn = 1821              │\n",
       "│ EDM = 2.73e-05 (Goal: 0.0002)    │            time = 0.1 sec            │\n",
       "├──────────────────────────────────┼──────────────────────────────────────┤\n",
       "│          Valid Minimum           │   Below EDM threshold (goal x 10)    │\n",
       "├──────────────────────────────────┼──────────────────────────────────────┤\n",
       "│      No parameters at limit      │           Below call limit           │\n",
       "├──────────────────────────────────┼──────────────────────────────────────┤\n",
       "│             Hesse ok             │     Covariance FORCED pos. def.      │\n",
       "└──────────────────────────────────┴──────────────────────────────────────┘"
      ]
     },
     "execution_count": 30,
     "metadata": {},
     "output_type": "execute_result"
    }
   ],
   "source": [
    "fit = Minuit(costFunction,fitResult) \n",
    "fit.limits=costFunction.parameterBounds\n",
    "fit.strategy=2\n",
    "fit.migrad(100000)\n",
    "fitResult=np.asarray(fit.values)\n",
    "fit.fmin"
   ]
  },
  {
   "cell_type": "code",
   "execution_count": 31,
   "metadata": {},
   "outputs": [
    {
     "name": "stdout",
     "output_type": "stream",
     "text": [
      "==========================================================\n",
      "Fit Result:\n",
      "[  4.0060726   -2.8079988   -6.41658892  -9.57997866  10.1495763\n",
      "  19.13368153  -0.4028145   17.6171304   16.36992911 -13.92527997\n",
      " -19.87508784 -19.90393423  -2.17085406  11.55221251   1.12229135\n",
      "  -1.49353692 -19.54569053 -19.62833373  15.99932758  19.06263116\n",
      "   2.38985213  -5.40529115  16.65592345   7.39627655  -3.56555915\n",
      "  -2.04313465   3.47380125  -8.26923976  -9.21658853  -1.53407905\n",
      "  -6.20638736   5.78573186  11.89171885   9.43092484   3.60186505\n",
      "  -4.35172268]\n",
      "----------------------------------------------------------\n",
      "Sigma Away:\n",
      "s12 :  2.3104994696441667e-06\n",
      "s23 :  1.088415238677511e-05\n",
      "s13 :  1.8604674982517188e-06\n",
      "mURmC :  0.0014224938267276136\n",
      "mCRmT :  0.007458850656361572\n",
      "mDRmS :  1.7052887776004378e-05\n",
      "mSRmB :  1.750204489977327\n",
      "QdCP :  6.1294060402900216e-06\n",
      "----------------------------------------------------------\n",
      "total chi-sqr:  1.7591240718735872\n",
      "===============----------------------------===============\n",
      "Observabls Result:\n",
      "s12 :  0.050825500669104726\n",
      "s23 :  1.218567880156943e-07\n",
      "s13 :  0.15164700034210768\n",
      "mURmC :  0.0019073704225045641\n",
      "mCRmT :  0.002789636243468143\n",
      "mDRmS :  0.05047439701177383\n",
      "mSRmB :  0.019522952943221084\n",
      "QdCP :  0.38452977599812793\n",
      "==========================================================\n"
     ]
    }
   ],
   "source": [
    "print(\"==========================================================\")\n",
    "costFunction.Print(fitResult)\n",
    "print(\"===============----------------------------===============\")\n",
    "costFunction.calResult.Print(fitResult)\n",
    "print(\"==========================================================\")"
   ]
  },
  {
   "cell_type": "code",
   "execution_count": null,
   "metadata": {},
   "outputs": [],
   "source": []
  }
 ],
 "metadata": {
  "kernelspec": {
   "display_name": "Python 3",
   "language": "python",
   "name": "python3"
  },
  "language_info": {
   "codemirror_mode": {
    "name": "ipython",
    "version": 3
   },
   "file_extension": ".py",
   "mimetype": "text/x-python",
   "name": "python",
   "nbconvert_exporter": "python",
   "pygments_lexer": "ipython3",
   "version": "3.11.7"
  }
 },
 "nbformat": 4,
 "nbformat_minor": 2
}
