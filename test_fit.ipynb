{
 "cells": [
  {
   "cell_type": "markdown",
   "metadata": {},
   "source": [
    "This file use Mu-chun's model as an example to do a test fit."
   ]
  },
  {
   "cell_type": "code",
   "execution_count": 1,
   "metadata": {},
   "outputs": [],
   "source": [
    "from fit import *"
   ]
  },
  {
   "cell_type": "code",
   "execution_count": 2,
   "metadata": {},
   "outputs": [],
   "source": [
    "modelName = \"MuChunModel\"\n",
    "modelModule = importlib.import_module(modelName)\n",
    "observables=CKMPMNSSeeSawSystem(modelModule.YuMatrix,modelModule.YdMatrix,modelModule.ELMatrix,modelModule.NLMatrix,modelModule.NNMatrix,modelModule.numberOfParams)\n",
    "costFunction = CostFunction(observables,expValList,divValList)"
   ]
  },
  {
   "cell_type": "code",
   "execution_count": 10,
   "metadata": {},
   "outputs": [
    {
     "name": "stdout",
     "output_type": "stream",
     "text": [
      "Observabls Result:\n",
      "Quark:\n",
      "Qs12 :  0.09794828237835787\n",
      "Qs23 :  0.5506766638435348\n",
      "Qs13 :  0.08833045268519749\n",
      "mURmC :  0.03435486750797499\n",
      "mCRmT :  0.004528224881315752\n",
      "mDRmS :  0.03926723507166634\n",
      "mSRmB :  0.08353904017768327\n",
      "Lepton:\n",
      "Ls12 :  0.009882321890507492\n",
      "Ls23 :  0.0064404213425619285\n",
      "Ls13 :  0.0002956194577877734\n",
      "m21Rm31 :  2.6825259932665754e-10\n",
      "mERmMu :  0.03926723507166563\n",
      "mMuRMTau :  0.08353904017768338\n"
     ]
    },
    {
     "data": {
      "text/plain": [
       "array([9.79482824e-02, 5.50676664e-01, 8.83304527e-02, 3.43548675e-02,\n",
       "       4.52822488e-03, 3.92672351e-02, 8.35390402e-02, 9.88232189e-03,\n",
       "       6.44042134e-03, 2.95619458e-04, 2.68252599e-10, 3.92672351e-02,\n",
       "       8.35390402e-02])"
      ]
     },
     "execution_count": 10,
     "metadata": {},
     "output_type": "execute_result"
    }
   ],
   "source": [
    "testParam=costFunction.InitParams()\n",
    "observables.Print(testParam)\n",
    "observables(testParam)"
   ]
  },
  {
   "cell_type": "code",
   "execution_count": 12,
   "metadata": {},
   "outputs": [],
   "source": [
    "fit = Minuit(costFunction, costFunction.InitParams()) \n",
    "fit.limits=costFunction.parameterBounds\n",
    "fit.strategy=2"
   ]
  },
  {
   "cell_type": "code",
   "execution_count": 15,
   "metadata": {},
   "outputs": [
    {
     "data": {
      "text/html": [
       "<table>\n",
       "    <tr>\n",
       "        <th colspan=\"2\" style=\"text-align:center\" title=\"Minimizer\"> Migrad </th>\n",
       "    </tr>\n",
       "    <tr>\n",
       "        <td style=\"text-align:left\" title=\"Minimum value of function\"> FCN = 619.7 </td>\n",
       "        <td style=\"text-align:center\" title=\"Total number of function and (optional) gradient evaluations\"> Nfcn = 317497 </td>\n",
       "    </tr>\n",
       "    <tr>\n",
       "        <td style=\"text-align:left\" title=\"Estimated distance to minimum and goal\"> EDM = 2.47e-05 (Goal: 0.0002) </td>\n",
       "        <td style=\"text-align:center\" title=\"Total run time of algorithms\">  </td>\n",
       "    </tr>\n",
       "    <tr>\n",
       "        <td style=\"text-align:center;background-color:#92CCA6;color:black\"> Valid Minimum </td>\n",
       "        <td style=\"text-align:center;background-color:#92CCA6;color:black\"> Below EDM threshold (goal x 10) </td>\n",
       "    </tr>\n",
       "    <tr>\n",
       "        <td style=\"text-align:center;background-color:#FFF79A;color:black\"> SOME parameters at limit </td>\n",
       "        <td style=\"text-align:center;background-color:#92CCA6;color:black\"> Below call limit </td>\n",
       "    </tr>\n",
       "    <tr>\n",
       "        <td style=\"text-align:center;background-color:#FFF79A;color:black\"> Hesse ok </td>\n",
       "        <td style=\"text-align:center;background-color:#FFF79A;color:black\"> Covariance FORCED pos. def. </td>\n",
       "    </tr>\n",
       "</table>"
      ],
      "text/plain": [
       "┌─────────────────────────────────────────────────────────────────────────┐\n",
       "│                                Migrad                                   │\n",
       "├──────────────────────────────────┬──────────────────────────────────────┤\n",
       "│ FCN = 619.7                      │            Nfcn = 317497             │\n",
       "│ EDM = 2.47e-05 (Goal: 0.0002)    │                                      │\n",
       "├──────────────────────────────────┼──────────────────────────────────────┤\n",
       "│          Valid Minimum           │   Below EDM threshold (goal x 10)    │\n",
       "├──────────────────────────────────┼──────────────────────────────────────┤\n",
       "│     SOME parameters at limit     │           Below call limit           │\n",
       "├──────────────────────────────────┼──────────────────────────────────────┤\n",
       "│             Hesse ok             │     Covariance FORCED pos. def.      │\n",
       "└──────────────────────────────────┴──────────────────────────────────────┘"
      ]
     },
     "execution_count": 15,
     "metadata": {},
     "output_type": "execute_result"
    }
   ],
   "source": [
    "for _ in range(10):\n",
    "    fit.migrad(None,10000)\n",
    "fit.fmin"
   ]
  },
  {
   "cell_type": "code",
   "execution_count": 14,
   "metadata": {},
   "outputs": [
    {
     "name": "stdout",
     "output_type": "stream",
     "text": [
      "==========================================================\n",
      "Fit Result:\n",
      "[-6.19850882  9.99999707  8.99461803 -2.38102396 -5.31251451 -1.81950158\n",
      " -5.99478173 -7.66175603 -1.29339557  0.07064389  2.73230831 -2.20564263\n",
      " -8.24201964 -8.59082798 -9.79514223 -4.60712759 -0.55984563 -7.14209043\n",
      " -9.47573926  4.78744178  3.8870111  -3.23553278 -8.5847234  -8.82462367\n",
      " -2.02401062 -2.41831285  3.0258155   4.15429262  6.63294448 -8.32498261\n",
      " -5.19683983  2.15190885  1.03099217  1.32231853  1.60865909 -4.59246564\n",
      "  1.06314995  9.5617858   9.99681729  6.82684811  7.20252119 -8.10362408\n",
      "  6.54640725 -9.52141238 -4.11677087  4.54786406  3.28650584 -5.46651454\n",
      " -4.4615248   0.39923691  5.96040538 -9.00583219 -2.17576032  8.96420024\n",
      " -3.91943436 -8.72040859 -7.68430767 -6.84377921  8.96228606  1.65399887]\n",
      "----------------------------------------------------------\n",
      "Sigma Away:\n",
      "Qs12 :  2.4776317902094898e-08\n",
      "Qs23 :  0.0001064457459695133\n",
      "Qs13 :  9.225566038825537e-10\n",
      "mURmC :  0.01836016556719368\n",
      "mCRmT :  226.7153906429206\n",
      "mDRmS :  54.21827649453078\n",
      "mSRmB :  106.26734732083665\n",
      "Ls12 :  2.351540111106609e-07\n",
      "Ls23 :  4.52502381212263e-08\n",
      "Ls13 :  1.725578994909842e-06\n",
      "m21Rm31 :  5.760446147395911e-07\n",
      "mERmMu :  0.05641165537087806\n",
      "mMuRMTau :  232.4312846636481\n",
      "----------------------------------------------------------\n",
      "total chi-sqr:  619.7071799963469\n",
      "===============----------------------------===============\n",
      "Observabls Result:\n",
      "Quark:\n",
      "Qs12 :  0.050825500069288244\n",
      "Qs23 :  1.2162653522185533e-07\n",
      "Qs13 :  0.15164700000761813\n",
      "mURmC :  0.0020112998130636826\n",
      "mCRmT :  0.0009931514658782113\n",
      "mDRmS :  0.004847502275891163\n",
      "mSRmB :  0.028508605498360904\n",
      "Lepton:\n",
      "Ls12 :  0.3030053341949106\n",
      "Ls23 :  0.5719961710213958\n",
      "Ls13 :  0.022029264376745336\n",
      "m21Rm31 :  0.029559362460134454\n",
      "mERmMu :  0.0048475022758911095\n",
      "mMuRMTau :  0.02850860549836081\n",
      "==========================================================\n"
     ]
    }
   ],
   "source": [
    "fitResult=np.asarray(fit.values)\n",
    "print(\"==========================================================\")\n",
    "costFunction.Print(fitResult)\n",
    "print(\"===============----------------------------===============\")\n",
    "costFunction.calResult.Print(fitResult)\n",
    "print(\"==========================================================\")"
   ]
  },
  {
   "cell_type": "code",
   "execution_count": null,
   "metadata": {},
   "outputs": [],
   "source": []
  }
 ],
 "metadata": {
  "kernelspec": {
   "display_name": "Python 3",
   "language": "python",
   "name": "python3"
  },
  "language_info": {
   "codemirror_mode": {
    "name": "ipython",
    "version": 3
   },
   "file_extension": ".py",
   "mimetype": "text/x-python",
   "name": "python",
   "nbconvert_exporter": "python",
   "pygments_lexer": "ipython3",
   "version": "3.11.7"
  }
 },
 "nbformat": 4,
 "nbformat_minor": 2
}
