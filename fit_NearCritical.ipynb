{
 "cells": [
  {
   "cell_type": "code",
   "execution_count": 1,
   "metadata": {},
   "outputs": [],
   "source": [
    "from fit import *"
   ]
  },
  {
   "cell_type": "code",
   "execution_count": 2,
   "metadata": {},
   "outputs": [],
   "source": [
    "# Notice numberOfParams does not need to count modular tau.\n",
    "modelName = \"model.NearCritical.model2p12p12p1_No12\"\n",
    "modelModule = importlib.import_module(modelName)\n",
    "observables=PMNSSeeSawSystem(modelModule.ELMatrix,modelModule.NLMatrix,modelModule.NNMatrix,modelModule.numberOfParams)\n",
    "costFunction = CostFunction(observables,leptonExpValList,leptonDivValList,modelType = \"modular\",shiftFunction=ShiftFunction)"
   ]
  },
  {
   "cell_type": "code",
   "execution_count": 3,
   "metadata": {},
   "outputs": [
    {
     "name": "stdout",
     "output_type": "stream",
     "text": [
      "==========================================================\n",
      "Fit Result:\n",
      "[ 0.82503999 13.90303455  1.46016809 -0.12546115  0.08000082  0.1904451\n",
      " -6.55342277 16.17699166 -0.45278655  0.89222584]\n",
      "----------------------------------------------------------\n",
      "Sigma Away:\n",
      "s12 :  9.318233075982135e-06\n",
      "s23 :  3.382908637589751e-06\n",
      "s13 :  3.846168636963135e-07\n",
      "m21Rm31 :  2.2731319049752556e-05\n",
      "mERmMu :  6.56627119108764e-07\n",
      "mMuRMTau :  1.638801611261563e-05\n",
      "----------------------------------------------------------\n",
      "total chi-sqr:  5.2861720858745153e-05\n",
      "===============----------------------------===============\n",
      "Observabls Result:\n",
      "s12 :  0.3030335783591349\n",
      "s23 :  0.57203310683311\n",
      "s13 :  0.022030347297924635\n",
      "m21Rm31 :  0.029564004899339746\n",
      "mERmMu :  0.004799837934936632\n",
      "mMuRMTau :  0.05899190357705832\n",
      "==========================================================\n"
     ]
    }
   ],
   "source": [
    "fitResults = []\n",
    "for i in range(30):\n",
    "    fit = Minuit(costFunction, costFunction.InitParams()) \n",
    "    fit.limits=costFunction.parameterBounds\n",
    "    fit.strategy=2\n",
    "\n",
    "    try:\n",
    "        fit.migrad(100000)\n",
    "        fitResults.append(np.asarray(fit.values))\n",
    "    except:\n",
    "        continue\n",
    "\n",
    "    \n",
    "fitResult = min(fitResults, key=lambda x: costFunction(x))\n",
    "\n",
    "print(\"==========================================================\")\n",
    "costFunction.Print(fitResult)\n",
    "print(\"===============----------------------------===============\")\n",
    "costFunction.calResult.Print(ShiftFunction(fitResult))\n",
    "print(\"==========================================================\")"
   ]
  }
 ],
 "metadata": {
  "kernelspec": {
   "display_name": "Python 3",
   "language": "python",
   "name": "python3"
  },
  "language_info": {
   "codemirror_mode": {
    "name": "ipython",
    "version": 3
   },
   "file_extension": ".py",
   "mimetype": "text/x-python",
   "name": "python",
   "nbconvert_exporter": "python",
   "pygments_lexer": "ipython3",
   "version": "3.11.7"
  }
 },
 "nbformat": 4,
 "nbformat_minor": 2
}
