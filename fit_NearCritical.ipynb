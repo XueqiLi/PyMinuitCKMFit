{
 "cells": [
  {
   "cell_type": "code",
   "execution_count": 1,
   "metadata": {},
   "outputs": [],
   "source": [
    "from fit import *"
   ]
  },
  {
   "cell_type": "code",
   "execution_count": 2,
   "metadata": {},
   "outputs": [],
   "source": [
    "# Notice numberOfParams does not need to count modular tau.\n",
    "modelName = \"model.NearCritical.model999\"\n",
    "modelModule = importlib.import_module(modelName)\n",
    "observables=PMNSSeeSawSystem(modelModule.ELMatrix,modelModule.NLMatrix,modelModule.NNMatrix,modelModule.numberOfParams)\n",
    "costFunction = CostFunction(observables,leptonExpValList,leptonDivValList,modelType = \"modular\",shiftFunction=ShiftFunction)"
   ]
  },
  {
   "cell_type": "code",
   "execution_count": 3,
   "metadata": {},
   "outputs": [
    {
     "name": "stdout",
     "output_type": "stream",
     "text": [
      "==========================================================\n",
      "Fit Result:\n",
      "[  1.09957519  19.45565547   5.71082844   0.20627983   0.30249038\n",
      " -12.1653561   -0.39253663 -12.52221138  -0.44856159   0.88303326]\n",
      "----------------------------------------------------------\n",
      "Sigma Away:\n",
      "s12 :  2.2897268421880884e-05\n",
      "s23 :  1.9921654251159927e-06\n",
      "s13 :  2.4336492727763046e-05\n",
      "m21Rm31 :  5.333293743439797e-06\n",
      "mERmMu :  1.2549353865010571e-05\n",
      "mMuRMTau :  5.48302542954865e-07\n",
      "----------------------------------------------------------\n",
      "total chi-sqr:  6.765687672616515e-05\n",
      "===============----------------------------===============\n",
      "Observabls Result:\n",
      "s12 :  0.3030526361993218\n",
      "s23 :  0.5720254059362696\n",
      "s13 :  0.022032762593730434\n",
      "m21Rm31 :  0.029561939889704434\n",
      "mERmMu :  0.004799291498655893\n",
      "mMuRMTau :  0.05900148094907806\n",
      "==========================================================\n"
     ]
    }
   ],
   "source": [
    "fitResults = []\n",
    "for i in range(30):\n",
    "    fit = Minuit(costFunction, costFunction.InitParams()) \n",
    "    fit.limits=costFunction.parameterBounds\n",
    "    fit.strategy=2\n",
    "\n",
    "    try:\n",
    "        fit.migrad(100000)\n",
    "        fitResults.append(np.asarray(fit.values))\n",
    "    except:\n",
    "        continue\n",
    "\n",
    "    \n",
    "fitResult = min(fitResults, key=lambda x: costFunction(x))\n",
    "\n",
    "print(\"==========================================================\")\n",
    "costFunction.Print(fitResult)\n",
    "print(\"===============----------------------------===============\")\n",
    "costFunction.calResult.Print(ShiftFunction(fitResult))\n",
    "print(\"==========================================================\")"
   ]
  }
 ],
 "metadata": {
  "kernelspec": {
   "display_name": "Python 3",
   "language": "python",
   "name": "python3"
  },
  "language_info": {
   "codemirror_mode": {
    "name": "ipython",
    "version": 3
   },
   "file_extension": ".py",
   "mimetype": "text/x-python",
   "name": "python",
   "nbconvert_exporter": "python",
   "pygments_lexer": "ipython3",
   "version": "3.11.7"
  }
 },
 "nbformat": 4,
 "nbformat_minor": 2
}
