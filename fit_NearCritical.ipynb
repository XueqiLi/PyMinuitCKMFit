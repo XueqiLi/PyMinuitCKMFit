{
 "cells": [
  {
   "cell_type": "code",
   "execution_count": 1,
   "metadata": {},
   "outputs": [],
   "source": [
    "from fit import *"
   ]
  },
  {
   "cell_type": "code",
   "execution_count": 2,
   "metadata": {},
   "outputs": [],
   "source": [
    "# Notice numberOfParams does not need to count modular tau.\n",
    "modelName = \"model.NearCritical.model2p12p12p1_No12\"\n",
    "modelModule = importlib.import_module(modelName)\n",
    "observables=PMNSSeeSawSystem(modelModule.ELMatrix,modelModule.NLMatrix,modelModule.NNMatrix,modelModule.numberOfParams,shiftFunction=ShiftFunction)\n",
    "costFunction = CostFunction(observables,leptonExpValList,leptonDivValList,modelType = \"modular\")"
   ]
  },
  {
   "cell_type": "code",
   "execution_count": 7,
   "metadata": {},
   "outputs": [
    {
     "data": {
      "text/html": [
       "<table>\n",
       "    <tr>\n",
       "        <th colspan=\"2\" style=\"text-align:center\" title=\"Minimizer\"> Migrad </th>\n",
       "    </tr>\n",
       "    <tr>\n",
       "        <td style=\"text-align:left\" title=\"Minimum value of function\"> FCN = 416.4 </td>\n",
       "        <td style=\"text-align:center\" title=\"Total number of function and (optional) gradient evaluations\"> Nfcn = 9750 </td>\n",
       "    </tr>\n",
       "    <tr>\n",
       "        <td style=\"text-align:left\" title=\"Estimated distance to minimum and goal\"> EDM = 1.3e-05 (Goal: 0.0002) </td>\n",
       "        <td style=\"text-align:center\" title=\"Total run time of algorithms\">  </td>\n",
       "    </tr>\n",
       "    <tr>\n",
       "        <td style=\"text-align:center;background-color:#92CCA6;color:black\"> Valid Minimum </td>\n",
       "        <td style=\"text-align:center;background-color:#92CCA6;color:black\"> Below EDM threshold (goal x 10) </td>\n",
       "    </tr>\n",
       "    <tr>\n",
       "        <td style=\"text-align:center;background-color:#FFF79A;color:black\"> SOME parameters at limit </td>\n",
       "        <td style=\"text-align:center;background-color:#92CCA6;color:black\"> Below call limit </td>\n",
       "    </tr>\n",
       "    <tr>\n",
       "        <td style=\"text-align:center;background-color:#FFF79A;color:black\"> Hesse ok </td>\n",
       "        <td style=\"text-align:center;background-color:#FFF79A;color:black\"> Covariance FORCED pos. def. </td>\n",
       "    </tr>\n",
       "</table>"
      ],
      "text/plain": [
       "┌─────────────────────────────────────────────────────────────────────────┐\n",
       "│                                Migrad                                   │\n",
       "├──────────────────────────────────┬──────────────────────────────────────┤\n",
       "│ FCN = 416.4                      │             Nfcn = 9750              │\n",
       "│ EDM = 1.3e-05 (Goal: 0.0002)     │                                      │\n",
       "├──────────────────────────────────┼──────────────────────────────────────┤\n",
       "│          Valid Minimum           │   Below EDM threshold (goal x 10)    │\n",
       "├──────────────────────────────────┼──────────────────────────────────────┤\n",
       "│     SOME parameters at limit     │           Below call limit           │\n",
       "├──────────────────────────────────┼──────────────────────────────────────┤\n",
       "│             Hesse ok             │     Covariance FORCED pos. def.      │\n",
       "└──────────────────────────────────┴──────────────────────────────────────┘"
      ]
     },
     "execution_count": 7,
     "metadata": {},
     "output_type": "execute_result"
    }
   ],
   "source": [
    "fit = Minuit(costFunction, costFunction.InitParams()) \n",
    "fit.limits=costFunction.parameterBounds\n",
    "fit.strategy=2\n",
    "\n",
    "for _ in range(10):\n",
    "    fit.migrad(None,1000)\n",
    "fit.fmin"
   ]
  },
  {
   "cell_type": "code",
   "execution_count": 3,
   "metadata": {},
   "outputs": [
    {
     "name": "stdout",
     "output_type": "stream",
     "text": [
      "==========================================================\n",
      "Fit Result:\n",
      "[ 8.28709815e-01 -1.99554688e+01  7.05902681e+00 -4.10192068e-01\n",
      "  2.33190014e-01 -3.43785664e+00 -8.08958327e-06 -1.99995664e+01\n",
      " -4.51683643e-01  8.92775899e-01]\n",
      "----------------------------------------------------------\n",
      "Sigma Away:\n",
      "s12 :  6.948261898702516e-07\n",
      "s23 :  4.0634144454390465e-07\n",
      "s13 :  2.926854966700347e-07\n",
      "m21Rm31 :  2.3086017362363507e-06\n",
      "mERmMu :  2.647302875897231e-06\n",
      "mMuRMTau :  1.9133132325489787e-05\n",
      "----------------------------------------------------------\n",
      "total chi-sqr:  2.5482890068707558e-05\n",
      "===============----------------------------===============\n",
      "Observabls Result:\n",
      "s12 :  0.3029908308141597\n",
      "s23 :  0.571988525914937\n",
      "s13 :  0.022029697037672713\n",
      "m21Rm31 :  0.029558723696985395\n",
      "mERmMu :  0.004799674589313273\n",
      "mMuRMTau :  0.05899125171277895\n",
      "==========================================================\n"
     ]
    }
   ],
   "source": [
    "fitResults = []\n",
    "for i in range(30):\n",
    "    fit = Minuit(costFunction, costFunction.InitParams()) \n",
    "    fit.limits=costFunction.parameterBounds\n",
    "    fit.strategy=2\n",
    "\n",
    "    try:\n",
    "        fit.migrad(100000)\n",
    "        fitResults.append(np.asarray(fit.values))\n",
    "    except:\n",
    "        continue\n",
    "\n",
    "    \n",
    "fitResult = min(fitResults, key=lambda x: costFunction(x))\n",
    "\n",
    "print(\"==========================================================\")\n",
    "costFunction.Print(fitResult)\n",
    "print(\"===============----------------------------===============\")\n",
    "costFunction.calResult.Print(fitResult)\n",
    "print(\"==========================================================\")"
   ]
  }
 ],
 "metadata": {
  "kernelspec": {
   "display_name": "Python 3",
   "language": "python",
   "name": "python3"
  },
  "language_info": {
   "codemirror_mode": {
    "name": "ipython",
    "version": 3
   },
   "file_extension": ".py",
   "mimetype": "text/x-python",
   "name": "python",
   "nbconvert_exporter": "python",
   "pygments_lexer": "ipython3",
   "version": "3.11.7"
  }
 },
 "nbformat": 4,
 "nbformat_minor": 2
}
