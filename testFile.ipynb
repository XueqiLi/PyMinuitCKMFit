{
 "cells": [
  {
   "cell_type": "code",
   "execution_count": 1,
   "metadata": {},
   "outputs": [],
   "source": [
    "# import os\n",
    "# import sys\n",
    "# from matplotlib import pyplot as plt\n",
    "# nb_dir = os.path.split(os.getcwd())[0]"
   ]
  },
  {
   "cell_type": "code",
   "execution_count": 2,
   "metadata": {},
   "outputs": [],
   "source": [
    "# %run fit MuChunModel"
   ]
  },
  {
   "cell_type": "code",
   "execution_count": 3,
   "metadata": {},
   "outputs": [],
   "source": [
    "from fit import *"
   ]
  },
  {
   "cell_type": "code",
   "execution_count": 4,
   "metadata": {},
   "outputs": [],
   "source": [
    "modelName = \"MuChunModel\"\n",
    "modelModule = importlib.import_module(modelName)\n",
    "observables=CKMPMNSSeeSawSystem(modelModule.YuMatrix,modelModule.YdMatrix,modelModule.ELMatrix,modelModule.NLMatrix,modelModule.NNMatrix,modelModule.numberOfParams)\n",
    "costFunction = CostFunction(observables,expValList,divValList)"
   ]
  },
  {
   "cell_type": "code",
   "execution_count": 5,
   "metadata": {},
   "outputs": [
    {
     "data": {
      "text/plain": [
       "array([1.14254978e-01, 8.90019423e-01, 1.14744557e-01, 6.74682578e-02,\n",
       "       1.02654695e-02, 1.13628740e-01, 2.98102342e-02, 6.07789897e-02,\n",
       "       2.69883157e-03, 3.75653007e-04, 4.51304210e-08, 1.13628740e-01,\n",
       "       2.98102342e-02])"
      ]
     },
     "execution_count": 5,
     "metadata": {},
     "output_type": "execute_result"
    }
   ],
   "source": [
    "observables(costFunction.InitParams())"
   ]
  },
  {
   "cell_type": "code",
   "execution_count": 6,
   "metadata": {},
   "outputs": [],
   "source": [
    "fit = Minuit(costFunction, costFunction.InitParams()) \n",
    "fit.limits=costFunction.parameterBounds\n",
    "fit.strategy=2"
   ]
  },
  {
   "cell_type": "code",
   "execution_count": 14,
   "metadata": {},
   "outputs": [
    {
     "data": {
      "text/html": [
       "<table>\n",
       "    <tr>\n",
       "        <th colspan=\"2\" style=\"text-align:center\" title=\"Minimizer\"> Migrad </th>\n",
       "    </tr>\n",
       "    <tr>\n",
       "        <td style=\"text-align:left\" title=\"Minimum value of function\"> FCN = 387.2 </td>\n",
       "        <td style=\"text-align:center\" title=\"Total number of function and (optional) gradient evaluations\"> Nfcn = 665091 </td>\n",
       "    </tr>\n",
       "    <tr>\n",
       "        <td style=\"text-align:left\" title=\"Estimated distance to minimum and goal\"> EDM = 1.21e-07 (Goal: 0.0002) </td>\n",
       "        <td style=\"text-align:center\" title=\"Total run time of algorithms\"> time = 3.9 sec </td>\n",
       "    </tr>\n",
       "    <tr>\n",
       "        <td style=\"text-align:center;background-color:#92CCA6;color:black\"> Valid Minimum </td>\n",
       "        <td style=\"text-align:center;background-color:#92CCA6;color:black\"> Below EDM threshold (goal x 10) </td>\n",
       "    </tr>\n",
       "    <tr>\n",
       "        <td style=\"text-align:center;background-color:#FFF79A;color:black\"> SOME parameters at limit </td>\n",
       "        <td style=\"text-align:center;background-color:#92CCA6;color:black\"> Below call limit </td>\n",
       "    </tr>\n",
       "    <tr>\n",
       "        <td style=\"text-align:center;background-color:#FFF79A;color:black\"> Hesse ok </td>\n",
       "        <td style=\"text-align:center;background-color:#FFF79A;color:black\"> Covariance FORCED pos. def. </td>\n",
       "    </tr>\n",
       "</table>"
      ],
      "text/plain": [
       "┌─────────────────────────────────────────────────────────────────────────┐\n",
       "│                                Migrad                                   │\n",
       "├──────────────────────────────────┬──────────────────────────────────────┤\n",
       "│ FCN = 387.2                      │            Nfcn = 665091             │\n",
       "│ EDM = 1.21e-07 (Goal: 0.0002)    │            time = 3.9 sec            │\n",
       "├──────────────────────────────────┼──────────────────────────────────────┤\n",
       "│          Valid Minimum           │   Below EDM threshold (goal x 10)    │\n",
       "├──────────────────────────────────┼──────────────────────────────────────┤\n",
       "│     SOME parameters at limit     │           Below call limit           │\n",
       "├──────────────────────────────────┼──────────────────────────────────────┤\n",
       "│             Hesse ok             │     Covariance FORCED pos. def.      │\n",
       "└──────────────────────────────────┴──────────────────────────────────────┘"
      ]
     },
     "execution_count": 14,
     "metadata": {},
     "output_type": "execute_result"
    }
   ],
   "source": [
    "for _ in range(10):\n",
    "    fit.migrad(None,1000000000)\n",
    "fit.fmin"
   ]
  },
  {
   "cell_type": "code",
   "execution_count": 15,
   "metadata": {},
   "outputs": [
    {
     "name": "stdout",
     "output_type": "stream",
     "text": [
      "==========================================================\n",
      "Fit Result:\n",
      "[-7.52906088 -8.6993843  -9.51668377  0.71136522 -0.46460481 -2.2228979\n",
      " -8.56238888 -3.81200412  5.19010009  4.40337478 -4.8607502   9.7635649\n",
      "  9.10212726  8.84595109  7.86517729  9.09214645  4.84922005 -3.61565677\n",
      " -9.42711524 -8.84602927  4.92865138 -1.55309543  1.27947518 -1.93256046\n",
      " -5.51000753  2.7676985  -4.13611957 -0.15922304 -5.78874948 -2.35586326\n",
      "  9.15629981 -9.79650157 -0.33666361 -1.03326636  5.02296764 -4.9194173\n",
      " -6.22049531 -7.97242238  0.29021986 -4.34385078  7.75326352  9.32148265\n",
      "  0.27711093 -9.21499626  9.989791   -0.02404727  5.2419509   1.91897672\n",
      "  9.97534251  0.22242399  0.61846241  6.55984302  0.69999861  5.03931932\n",
      "  8.86698364 -1.5442114  -9.99246893 -6.07893769  6.3542571  -6.63000362]\n",
      "----------------------------------------------------------\n",
      "Sigma Away:\n",
      "Qs12 :  4.380876048319256e-11\n",
      "Qs23 :  1.9352394544318976e-08\n",
      "Qs13 :  2.551987200864467e-11\n",
      "mURmC :  7.79928149565684e-08\n",
      "mCRmT :  0.008223665124336255\n",
      "mDRmS :  54.21906272793746\n",
      "mSRmB :  66.71479981423687\n",
      "Ls12 :  6.131596918415442e-12\n",
      "Ls23 :  1.0848077651787949e-09\n",
      "Ls13 :  5.6129374372586626e-11\n",
      "m21Rm31 :  4.325173926506437e-11\n",
      "mERmMu :  0.0556282123840007\n",
      "mMuRMTau :  266.21327845163603\n",
      "----------------------------------------------------------\n",
      "total chi-sqr:  387.21099296992355\n",
      "===============----------------------------===============\n",
      "Observabls Result:\n",
      "Quark:\n",
      "Qs12 :  0.05082549999708646\n",
      "Qs23 :  1.2179864760112854e-07\n",
      "Qs13 :  0.15164700000126705\n",
      "mURmC :  0.0019298324368376273\n",
      "mCRmT :  0.002810882131123564\n",
      "mDRmS :  0.0048471712676868605\n",
      "mSRmB :  0.026367912818721615\n",
      "Lepton:\n",
      "Ls12 :  0.3029999727617323\n",
      "Ls23 :  0.5719994071444392\n",
      "Ls13 :  0.022029995804505775\n",
      "m21Rm31 :  0.02955999447565142\n",
      "mERmMu :  0.0048471712676887106\n",
      "mMuRMTau :  0.026367912818721747\n",
      "==========================================================\n"
     ]
    }
   ],
   "source": [
    "fitResult=np.asarray(fit.values)\n",
    "print(\"==========================================================\")\n",
    "costFunction.Print(fitResult)\n",
    "print(\"===============----------------------------===============\")\n",
    "costFunction.calResult.Print(fitResult)\n",
    "print(\"==========================================================\")"
   ]
  },
  {
   "cell_type": "code",
   "execution_count": null,
   "metadata": {},
   "outputs": [],
   "source": []
  }
 ],
 "metadata": {
  "kernelspec": {
   "display_name": "Python 3",
   "language": "python",
   "name": "python3"
  },
  "language_info": {
   "codemirror_mode": {
    "name": "ipython",
    "version": 3
   },
   "file_extension": ".py",
   "mimetype": "text/x-python",
   "name": "python",
   "nbconvert_exporter": "python",
   "pygments_lexer": "ipython3",
   "version": "3.11.6"
  }
 },
 "nbformat": 4,
 "nbformat_minor": 2
}
