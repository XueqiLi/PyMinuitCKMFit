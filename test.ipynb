{
 "cells": [
  {
   "cell_type": "code",
   "metadata": {
    "ExecuteTime": {
     "end_time": "2025-02-12T15:04:07.242176Z",
     "start_time": "2025-02-12T15:04:07.202671Z"
    }
   },
   "source": [
    "from fit import *\n",
    "import importlib"
   ],
   "outputs": [],
   "execution_count": 1
  },
  {
   "metadata": {
    "ExecuteTime": {
     "end_time": "2025-02-12T15:04:07.247684Z",
     "start_time": "2025-02-12T15:04:07.245356Z"
    }
   },
   "cell_type": "code",
   "source": [
    "lower = 0.1\n",
    "upper = 20\n",
    "def ShiftFunction(params):\n",
    "    minScale = lower\n",
    "    commonParams = [param + np.sign(param) * minScale for param in params]\n",
    "    return commonParams\n",
    "\n",
    "def ShiftFunctionModular(params):\n",
    "    minScale = lower\n",
    "    commonParams = params[:-2]\n",
    "    tParams = params[-2:]\n",
    "    commonParams = [param + np.sign(param) * minScale for param in commonParams]\n",
    "    return np.concatenate((commonParams, tParams))"
   ],
   "outputs": [],
   "execution_count": 2
  },
  {
   "cell_type": "code",
   "metadata": {
    "ExecuteTime": {
     "end_time": "2025-02-12T15:04:07.293549Z",
     "start_time": "2025-02-12T15:04:07.289761Z"
    }
   },
   "source": [
    "# Notice numberOfParams does not need to count modular tau.\n",
    "# modelName = \"model.TpGroup.modelTp(3,2)\"\n",
    "modelName = \"model.TpGroup.modelTp(1,2)\"\n",
    "# modelName = \"model.TpGroup.model2T(3,2)\"\n",
    "modelModule = importlib.import_module(modelName)\n",
    "observables=CKMSystem(modelModule.YuMatrix,modelModule.YdMatrix,modelModule.numberOfParams,dCPResult=True)\n",
    "costFunction = CostFunction(observables, quarkCPExpValList ,quarkCPDivValList, shiftFunction=ShiftFunctionModular, modelType=\"modular\", upper=upper)"
   ],
   "outputs": [],
   "execution_count": 3
  },
  {
   "cell_type": "code",
   "metadata": {
    "ExecuteTime": {
     "end_time": "2025-02-12T15:04:27.975728Z",
     "start_time": "2025-02-12T15:04:07.298306Z"
    }
   },
   "source": [
    "scanN = 50\n",
    "migradN = 100000\n",
    "itrN = 50\n",
    "fitResults = []\n",
    "for i in range(scanN):\n",
    "    fit = Minuit(costFunction, costFunction.InitParams())\n",
    "    fit.limits = costFunction.parameterBounds\n",
    "    fit.strategy = 2\n",
    "    try:\n",
    "        fit.migrad(migradN)\n",
    "        fitResults.append(np.asarray(fit.values))\n",
    "    except:\n",
    "        continue\n",
    "\n",
    "fitResult = min(fitResults, key=lambda x: costFunction(x))\n",
    "\n",
    "# for the best fit, fit the point around it\n",
    "convergingCount = 0\n",
    "for i in range(itrN):\n",
    "    OldResult = fitResult\n",
    "    fit = Minuit(costFunction, fitResult)\n",
    "    fit.limits = costFunction.parameterBounds\n",
    "    fit.strategy = 2\n",
    "    try:\n",
    "        fit.migrad(migradN)\n",
    "    except:\n",
    "        continue\n",
    "    fitResultNew = np.asarray(fit.values)\n",
    "    fitResult = min([fitResultNew, fitResult], key=lambda x: costFunction(x))\n",
    "    if np.all(OldResult == fitResultNew):\n",
    "        convergingCount += 1\n",
    "    if convergingCount > 3:\n",
    "        break\n",
    "\n",
    "print(\"==========================================================\")\n",
    "print(\"Number of parameters:\")\n",
    "print(costFunction.numberOfParams)\n",
    "print(\"==========================================================\")\n",
    "costFunction.calResult.Print(ShiftFunction(fitResult))\n",
    "print(\"===============----------------------------===============\")\n",
    "costFunction.Print(fitResult)\n",
    "print(\"===============----------------------------===============\")\n",
    "print(\"Number of parameters:\")\n",
    "print(costFunction.numberOfParams)"
   ],
   "outputs": [
    {
     "name": "stdout",
     "output_type": "stream",
     "text": [
      "==========================================================\n",
      "Number of parameters:\n",
      "2\n",
      "==========================================================\n",
      "Observabls Result:\n",
      "s12 :  0.3973965711278097\n",
      "s23 :  0.09584859687437762\n",
      "s13 :  0.00560995029149322\n",
      "mURmC :  1.5157577330124386e-16\n",
      "mCRmT :  0.06198685548232541\n",
      "mDRmS :  0.6461201073606008\n",
      "mSRmB :  0.6074890863239658\n",
      "QdCP :  1.2368904812682324\n",
      "===============----------------------------===============\n",
      "Fit Result:\n",
      "-0.100000 -1.732023 -0.499998 0.866029\n",
      "----------------------------------------------------------\n",
      "Sigma Away:\n",
      "s12 :  0.00021265293413670643\n",
      "s23 :  1599.9998036290908\n",
      "s13 :  176.80220378984814\n",
      "mURmC :  10.346944444435463\n",
      "mCRmT :  219876.6496795353\n",
      "mDRmS :  23452.10299934692\n",
      "mSRmB :  232137.76199582408\n",
      "QdCP :  0.004513423424241738\n",
      "----------------------------------------------------------\n",
      "total chi-sqr:  477253.668352646\n",
      "===============----------------------------===============\n",
      "Number of parameters:\n",
      "2\n"
     ]
    }
   ],
   "execution_count": 4
  }
 ],
 "metadata": {
  "kernelspec": {
   "display_name": "Python 3",
   "language": "python",
   "name": "python3"
  },
  "language_info": {
   "codemirror_mode": {
    "name": "ipython",
    "version": 3
   },
   "file_extension": ".py",
   "mimetype": "text/x-python",
   "name": "python",
   "nbconvert_exporter": "python",
   "pygments_lexer": "ipython3",
   "version": "3.11.7"
  }
 },
 "nbformat": 4,
 "nbformat_minor": 2
}
